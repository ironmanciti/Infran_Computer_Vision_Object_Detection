{
  "cells": [
    {
      "cell_type": "markdown",
      "metadata": {
        "id": "bptrBsIN0aIK"
      },
      "source": [
        "# Pytorch Basic"
      ]
    },
    {
      "cell_type": "code",
      "execution_count": 1,
      "metadata": {
        "colab": {
          "base_uri": "https://localhost:8080/",
          "height": 35
        },
        "id": "FWfvDn9z0aIO",
        "outputId": "bf202f18-999a-40ec-b2df-949c2a4a8def"
      },
      "outputs": [
        {
          "output_type": "execute_result",
          "data": {
            "text/plain": [
              "'cuda:0'"
            ],
            "application/vnd.google.colaboratory.intrinsic+json": {
              "type": "string"
            }
          },
          "metadata": {},
          "execution_count": 1
        }
      ],
      "source": [
        "import torch\n",
        "import numpy as np\n",
        "import matplotlib.pyplot as plt\n",
        "\n",
        "device = \"cuda:0\" if torch.cuda.is_available() else \"cpu\"\n",
        "device"
      ]
    },
    {
      "cell_type": "markdown",
      "metadata": {
        "id": "hDMoQIgGV10z"
      },
      "source": [
        "### torch.tensor 함수\n",
        "\n",
        "`tensor(data, dtype=None, device=None, requires_grad=False) -> Tensor`\n",
        "\n",
        "     data (array_like): list, tuple, numpy ndarray, scalar, and other types.\n",
        "     dtype :  `None`인 경우 `data`에서 데이터 유형을 유추합니다.  \n",
        "     device : `cpu`, `cuda`  \n",
        "     require_grad(bool, optional): autograd가 작업을 기록해야 하는 경우"
      ]
    },
    {
      "cell_type": "markdown",
      "metadata": {
        "id": "3_x6xXPPV100"
      },
      "source": [
        "Float torch tensor 생성"
      ]
    },
    {
      "cell_type": "code",
      "execution_count": 2,
      "metadata": {
        "colab": {
          "base_uri": "https://localhost:8080/"
        },
        "id": "dKTlCKQk0aIS",
        "outputId": "a6abc127-6e22-4336-f2c1-c107d60ce957"
      },
      "outputs": [
        {
          "output_type": "stream",
          "name": "stdout",
          "text": [
            "float32 \t torch.float32\n"
          ]
        }
      ],
      "source": [
        "# numpy 생성\n",
        "a = np.ones((2, 3), dtype=\"float32\")\n",
        "# tensor 생성\n",
        "b = torch.tensor(a)\n",
        "# dtype\n",
        "print(a.dtype, '\\t', b.dtype)"
      ]
    },
    {
      "cell_type": "markdown",
      "metadata": {
        "id": "77WegQUXV102"
      },
      "source": [
        "Integer tensor 생성"
      ]
    },
    {
      "cell_type": "code",
      "execution_count": 3,
      "metadata": {
        "colab": {
          "base_uri": "https://localhost:8080/"
        },
        "id": "YECq91Ru0aIS",
        "outputId": "48658df9-cb30-4841-a7b4-b8f4be90419c"
      },
      "outputs": [
        {
          "output_type": "execute_result",
          "data": {
            "text/plain": [
              "tensor([[1, 2, 3],\n",
              "        [4, 5, 6]], dtype=torch.int32)"
            ]
          },
          "metadata": {},
          "execution_count": 3
        }
      ],
      "source": [
        "x = torch.tensor([[1, 2, 3], [4, 5, 6]], dtype=torch.int32)\n",
        "x"
      ]
    },
    {
      "cell_type": "markdown",
      "metadata": {
        "id": "6yb70D7F0aIa"
      },
      "source": [
        "### Tensor 생성\n",
        "\n",
        "- 무작위로 초기화된 행렬 생성 (uniform distribution)"
      ]
    },
    {
      "cell_type": "code",
      "execution_count": 4,
      "metadata": {
        "colab": {
          "base_uri": "https://localhost:8080/"
        },
        "id": "M1ohi1oc0aIa",
        "outputId": "3ada1390-dc07-4da8-910c-782ab8212529"
      },
      "outputs": [
        {
          "output_type": "stream",
          "name": "stdout",
          "text": [
            "tensor([[0.8349, 0.3536, 0.3389],\n",
            "        [0.2501, 0.9525, 0.6920],\n",
            "        [0.0235, 0.0480, 0.9323],\n",
            "        [0.0218, 0.4204, 0.5434],\n",
            "        [0.5998, 0.7928, 0.9328]])\n"
          ]
        }
      ],
      "source": [
        "x = torch.rand(5, 3)\n",
        "print(x)"
      ]
    },
    {
      "cell_type": "markdown",
      "metadata": {
        "id": "_F_MBE6Y0aId"
      },
      "source": [
        "## Tensor 의 shape & dimension (rank)"
      ]
    },
    {
      "cell_type": "code",
      "execution_count": 5,
      "metadata": {
        "colab": {
          "base_uri": "https://localhost:8080/"
        },
        "id": "ptYfxewn0aIe",
        "outputId": "6e8c6c9f-d6cd-448c-ff38-f476905ee6f2"
      },
      "outputs": [
        {
          "output_type": "execute_result",
          "data": {
            "text/plain": [
              "torch.Size([5])"
            ]
          },
          "metadata": {},
          "execution_count": 5
        }
      ],
      "source": [
        "a = torch.Tensor([0, 1, 2, 3, 4])\n",
        "a.size()"
      ]
    },
    {
      "cell_type": "code",
      "execution_count": 6,
      "metadata": {
        "colab": {
          "base_uri": "https://localhost:8080/"
        },
        "id": "R5VHrcai0aIe",
        "outputId": "b21745a7-5234-4371-af3b-6669171980a6"
      },
      "outputs": [
        {
          "output_type": "execute_result",
          "data": {
            "text/plain": [
              "torch.Size([5])"
            ]
          },
          "metadata": {},
          "execution_count": 6
        }
      ],
      "source": [
        "# size() 와 shape 은 alias\n",
        "a.shape"
      ]
    },
    {
      "cell_type": "code",
      "execution_count": 7,
      "metadata": {
        "colab": {
          "base_uri": "https://localhost:8080/"
        },
        "id": "fXSRrETw0aIe",
        "outputId": "3d6f34aa-614e-4c22-c069-64fe983849ca"
      },
      "outputs": [
        {
          "output_type": "execute_result",
          "data": {
            "text/plain": [
              "1"
            ]
          },
          "metadata": {},
          "execution_count": 7
        }
      ],
      "source": [
        "a.ndimension()"
      ]
    },
    {
      "cell_type": "markdown",
      "metadata": {
        "id": "SOr0fUj50aIg"
      },
      "source": [
        "## numpy 와 tensor 간의 호환성\n",
        "\n",
        "- memory 를 공유하므로 하나를 수정하면 나머지에 모두 반영  "
      ]
    },
    {
      "cell_type": "code",
      "execution_count": 8,
      "metadata": {
        "colab": {
          "base_uri": "https://localhost:8080/"
        },
        "id": "G6Gk3T1L0aIg",
        "outputId": "80460b06-494d-4963-8f7f-41bcc2240ae2"
      },
      "outputs": [
        {
          "output_type": "execute_result",
          "data": {
            "text/plain": [
              "tensor([0., 1., 2., 3., 4., 5.], dtype=torch.float64)"
            ]
          },
          "metadata": {},
          "execution_count": 8
        }
      ],
      "source": [
        "numpy_array = np.array([0.0, 1.0, 2.0, 3.0, 4.0, 5.0])       # numpy array\n",
        "torch_tensor = torch.from_numpy(numpy_array)               # torch tensor\n",
        "torch_tensor"
      ]
    },
    {
      "cell_type": "code",
      "execution_count": 9,
      "metadata": {
        "colab": {
          "base_uri": "https://localhost:8080/"
        },
        "id": "P1x1lBo70aIh",
        "outputId": "0d0dd15e-5d94-4166-9da9-3a710fefcc68"
      },
      "outputs": [
        {
          "output_type": "execute_result",
          "data": {
            "text/plain": [
              "array([0., 1., 2., 3., 4., 5.])"
            ]
          },
          "metadata": {},
          "execution_count": 9
        }
      ],
      "source": [
        "back_to_numpy = torch_tensor.numpy()           # numpy array\n",
        "back_to_numpy"
      ]
    },
    {
      "cell_type": "code",
      "execution_count": 10,
      "metadata": {
        "colab": {
          "base_uri": "https://localhost:8080/"
        },
        "id": "PFxj24eI0aIh",
        "outputId": "6b85348e-a965-4009-af68-7fbc31845a48"
      },
      "outputs": [
        {
          "output_type": "execute_result",
          "data": {
            "text/plain": [
              "(array([0., 1., 2., 3., 4., 5.]),\n",
              " tensor([0., 1., 2., 3., 4., 5.], dtype=torch.float64),\n",
              " array([0., 1., 2., 3., 4., 5.]))"
            ]
          },
          "metadata": {},
          "execution_count": 10
        }
      ],
      "source": [
        "numpy_array, torch_tensor, back_to_numpy"
      ]
    },
    {
      "cell_type": "code",
      "execution_count": 11,
      "metadata": {
        "colab": {
          "base_uri": "https://localhost:8080/"
        },
        "id": "Bm76gZrW0aIh",
        "outputId": "74edcc7a-8ee7-4381-aad1-63c86b540d20"
      },
      "outputs": [
        {
          "output_type": "execute_result",
          "data": {
            "text/plain": [
              "(array([100.,   1.,   2.,   3.,   4.,   5.]),\n",
              " tensor([100.,   1.,   2.,   3.,   4.,   5.], dtype=torch.float64),\n",
              " array([100.,   1.,   2.,   3.,   4.,   5.]))"
            ]
          },
          "metadata": {},
          "execution_count": 11
        }
      ],
      "source": [
        "back_to_numpy[0] = 100\n",
        "\n",
        "numpy_array, torch_tensor, back_to_numpy"
      ]
    },
    {
      "cell_type": "markdown",
      "metadata": {
        "id": "M7tI-oW-0aIi"
      },
      "source": [
        "## Scalar value\n",
        "\n",
        "- 만약 tensor에 하나의 값만 존재한다면, ``.item()`` method를 사용하여 숫자 값을 얻을 수 있습니다.  "
      ]
    },
    {
      "cell_type": "code",
      "execution_count": 12,
      "metadata": {
        "colab": {
          "base_uri": "https://localhost:8080/"
        },
        "id": "nkyd8fiK0aIi",
        "outputId": "bc7f4713-5533-48d4-9aa0-cd7d43bc5dc1"
      },
      "outputs": [
        {
          "output_type": "execute_result",
          "data": {
            "text/plain": [
              "-1.610203504562378"
            ]
          },
          "metadata": {},
          "execution_count": 12
        }
      ],
      "source": [
        "x = torch.randn(1)\n",
        "x.item()"
      ]
    },
    {
      "cell_type": "code",
      "execution_count": 13,
      "metadata": {
        "colab": {
          "base_uri": "https://localhost:8080/"
        },
        "id": "UY1-2LF00aIi",
        "outputId": "93f06c7c-0395-4b7c-bccc-a2df54540b0d"
      },
      "outputs": [
        {
          "output_type": "stream",
          "name": "stdout",
          "text": [
            "tensor(5.)\n",
            "5.0\n"
          ]
        }
      ],
      "source": [
        "a = torch.tensor([5., 3., 4., 1.])\n",
        "\n",
        "print(a[0])\n",
        "print(a[0].item())"
      ]
    },
    {
      "cell_type": "markdown",
      "metadata": {
        "id": "79_l6-6Jr3A4"
      },
      "source": [
        "- tensor 가 array 형태인 경우 `numpy()` method 를 통해 ndarray 반환"
      ]
    },
    {
      "cell_type": "code",
      "execution_count": 14,
      "metadata": {
        "colab": {
          "base_uri": "https://localhost:8080/"
        },
        "id": "pbNz9o3_0aIj",
        "outputId": "cf324186-1c8c-422b-cc5a-cb93ef0b83ba"
      },
      "outputs": [
        {
          "output_type": "stream",
          "name": "stdout",
          "text": [
            "tensor([0.4030, 0.1265])\n",
            "\n",
            "[0.40297014 0.1264578 ]\n"
          ]
        }
      ],
      "source": [
        "x = torch.randn(2)\n",
        "print(x)\n",
        "print()\n",
        "print(x.numpy())"
      ]
    },
    {
      "cell_type": "markdown",
      "metadata": {
        "id": "LnsztCIG0aIm"
      },
      "source": [
        "## Basic Operations - numpy 와 동일"
      ]
    },
    {
      "cell_type": "code",
      "execution_count": 15,
      "metadata": {
        "colab": {
          "base_uri": "https://localhost:8080/"
        },
        "id": "kfjfj9Ak0aIm",
        "outputId": "ba007074-f52f-498d-bd73-51dced92e583"
      },
      "outputs": [
        {
          "output_type": "execute_result",
          "data": {
            "text/plain": [
              "tensor([1., 1.])"
            ]
          },
          "metadata": {},
          "execution_count": 15
        }
      ],
      "source": [
        "# element-wise 덧셈, 뺄셈\n",
        "u = torch.tensor([1.0, 0.0])\n",
        "v = torch.tensor([0.0, 1.0])\n",
        "z = u + v\n",
        "z"
      ]
    },
    {
      "cell_type": "code",
      "execution_count": 16,
      "metadata": {
        "colab": {
          "base_uri": "https://localhost:8080/"
        },
        "id": "zhgNRITy0aIn",
        "outputId": "fcaf003b-edf4-4e0e-97bb-2c548342b1b9"
      },
      "outputs": [
        {
          "output_type": "execute_result",
          "data": {
            "text/plain": [
              "tensor([ 1., -1.])"
            ]
          },
          "metadata": {},
          "execution_count": 16
        }
      ],
      "source": [
        "z = u - v\n",
        "z"
      ]
    },
    {
      "cell_type": "code",
      "execution_count": 17,
      "metadata": {
        "colab": {
          "base_uri": "https://localhost:8080/"
        },
        "id": "yuh56pVz0aIn",
        "outputId": "4b2f6c2a-27ab-498b-b2d1-836b4976e1c4"
      },
      "outputs": [
        {
          "output_type": "execute_result",
          "data": {
            "text/plain": [
              "tensor([3, 4])"
            ]
          },
          "metadata": {},
          "execution_count": 17
        }
      ],
      "source": [
        "# element-wise 곱셈\n",
        "u = torch.tensor([1, 2])\n",
        "v = torch.tensor([3, 2])\n",
        "z = u * v\n",
        "z"
      ]
    },
    {
      "cell_type": "code",
      "execution_count": 18,
      "metadata": {
        "colab": {
          "base_uri": "https://localhost:8080/"
        },
        "id": "vjapsSQr0aIn",
        "outputId": "df930de1-917b-4486-a123-0151158080be"
      },
      "outputs": [
        {
          "output_type": "execute_result",
          "data": {
            "text/plain": [
              "tensor([2, 4])"
            ]
          },
          "metadata": {},
          "execution_count": 18
        }
      ],
      "source": [
        "# 스칼라 곱\n",
        "y = torch.tensor([1, 2])\n",
        "z = 2 * y\n",
        "z"
      ]
    },
    {
      "cell_type": "code",
      "execution_count": 19,
      "metadata": {
        "colab": {
          "base_uri": "https://localhost:8080/"
        },
        "id": "9lvO5K-D0aIo",
        "outputId": "dc8bbc2a-4f38-401d-aba4-fa525b5be6a5"
      },
      "outputs": [
        {
          "output_type": "execute_result",
          "data": {
            "text/plain": [
              "tensor(5)"
            ]
          },
          "metadata": {},
          "execution_count": 19
        }
      ],
      "source": [
        "# dot product\n",
        "u = torch.tensor([1, 2])\n",
        "v = torch.tensor([3, 1])\n",
        "result = torch.dot(u, v)\n",
        "result"
      ]
    },
    {
      "cell_type": "markdown",
      "metadata": {
        "id": "O_7QZDgU0aIz"
      },
      "source": [
        "## TORCH.AUTOGRAD를 이용한 자동 미분\n",
        "\n",
        "- autograd 패키지는 Tensor의 모든 연산에 대해 자동 미분을 제공   \n",
        "\n",
        "- 신경망을 훈련할 때 가장 자주 사용되는 알고리즘은 역전파이다. 이 알고리즘에서 매개 변수 (모델 가중치)는 주어진 매개 변수에 대한 손실 함수의 기울기에 따라 조정된다.  \n",
        "\n",
        "- 이러한 그래디언트를 계산하기 위해 PyTorch에는 torch.autograd라는 내장 미분 엔진이 있다.\n",
        "\n",
        "- ``.requires_grad`` 속성을 True 로 설정하면, 그 tensor에서 이뤄진 모든 연산들을 추적(track)하기 시작  \n",
        "\n",
        "- 계산이 완료된 후 ``.backward()`` 를 호출하여 모든 변화도(gradient)를 자동으로 계산  \n",
        "\n",
        "- 이 Tensor의 변화도는 ``.grad`` 속성에 누적  \n",
        "\n",
        "- Tensor가 기록을 추적하는 것을 중단하게 하려면, ``.detach()`` 를 호출하여 연산 기록으로부터 분리(detach)하여 이후 연산들이 추적되는 것을 방지한다.\n",
        "\n",
        "- 도함수를 계산하기 위해서는 Tensor 의 ``.backward()`` 를 호출"
      ]
    },
    {
      "cell_type": "code",
      "execution_count": 20,
      "metadata": {
        "colab": {
          "base_uri": "https://localhost:8080/"
        },
        "id": "K_j214gH0aIz",
        "outputId": "19bacfc2-ab38-4231-8ec8-c16194c8f0d5"
      },
      "outputs": [
        {
          "output_type": "execute_result",
          "data": {
            "text/plain": [
              "tensor(2., requires_grad=True)"
            ]
          },
          "metadata": {},
          "execution_count": 20
        }
      ],
      "source": [
        "x = torch.tensor(2.0, requires_grad=True)\n",
        "x"
      ]
    },
    {
      "cell_type": "code",
      "execution_count": 21,
      "metadata": {
        "colab": {
          "base_uri": "https://localhost:8080/"
        },
        "id": "KHQ-Cio40aIz",
        "outputId": "73a4a6b3-bb2d-406d-fbca-57b9b9826f2e"
      },
      "outputs": [
        {
          "output_type": "execute_result",
          "data": {
            "text/plain": [
              "tensor(4., grad_fn=<PowBackward0>)"
            ]
          },
          "metadata": {},
          "execution_count": 21
        }
      ],
      "source": [
        "y = x ** 2\n",
        "y"
      ]
    },
    {
      "cell_type": "markdown",
      "metadata": {
        "id": "iYd4NfSL0aI0"
      },
      "source": [
        "y 를 x 에 대하여 미분  \n",
        "$$y(x)=x^2$$\n",
        "\n",
        "$$\\frac{dy(x=2)}{dx}=2x=4 \\rightarrow {y.backward()}$$  "
      ]
    },
    {
      "cell_type": "code",
      "execution_count": 22,
      "metadata": {
        "colab": {
          "base_uri": "https://localhost:8080/"
        },
        "id": "Zwsnd91k0aI0",
        "outputId": "434bf22b-7f91-4540-edb7-76cdf23de175"
      },
      "outputs": [
        {
          "output_type": "execute_result",
          "data": {
            "text/plain": [
              "tensor(4.)"
            ]
          },
          "metadata": {},
          "execution_count": 22
        }
      ],
      "source": [
        "y.backward()\n",
        "\n",
        "x.grad"
      ]
    },
    {
      "cell_type": "code",
      "execution_count": null,
      "metadata": {
        "id": "jfnjy3xqt4ne"
      },
      "outputs": [],
      "source": []
    }
  ],
  "metadata": {
    "accelerator": "GPU",
    "colab": {
      "gpuType": "T4",
      "provenance": []
    },
    "kernelspec": {
      "display_name": "Python 3 (ipykernel)",
      "language": "python",
      "name": "python3"
    },
    "language_info": {
      "codemirror_mode": {
        "name": "ipython",
        "version": 3
      },
      "file_extension": ".py",
      "mimetype": "text/x-python",
      "name": "python",
      "nbconvert_exporter": "python",
      "pygments_lexer": "ipython3",
      "version": "3.9.16"
    }
  },
  "nbformat": 4,
  "nbformat_minor": 0
}