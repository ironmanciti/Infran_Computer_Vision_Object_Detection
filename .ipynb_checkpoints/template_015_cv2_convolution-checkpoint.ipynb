{
 "cells": [
  {
   "cell_type": "markdown",
   "id": "efcd6fd3-1d05-44ba-800f-38bd2faac0cc",
   "metadata": {},
   "source": [
    "# cv2 기본 사용법: 이미지 처리와 필터링\n",
    "\n",
    "1. **이미지 읽기 및 표시**\n",
    "   - 그레이스케일 이미지와 컬러 이미지의 읽기, 변환, 표시 방법.\n",
    "<br></br>\n",
    "   \n",
    "2. **픽셀 강도 조작**\n",
    "   - 특정 이미지 영역의 픽셀 값을 조작하여 이미지 변형.\n",
    "<br></br>\n",
    "   \n",
    "3. **컨볼루션 필터**\n",
    "   - 흐림(Blurring), 윤곽선 감지(Laplacian), 샤프닝(Sharpening), 경계선 감지(Sobel) 등 다양한 필터 사용법.\n",
    "<br></br>\n",
    "   \n",
    "4. **Matplotlib를 통한 시각화**\n",
    "   - OpenCV와 Matplotlib을 결합해 결과를 시각적으로 확인하는 방법."
   ]
  },
  {
   "cell_type": "code",
   "execution_count": null,
   "id": "52680b30",
   "metadata": {},
   "outputs": [],
   "source": []
  },
  {
   "cell_type": "code",
   "execution_count": null,
   "id": "0f401a4a",
   "metadata": {},
   "outputs": [],
   "source": []
  },
  {
   "cell_type": "code",
   "execution_count": null,
   "id": "f1393696",
   "metadata": {},
   "outputs": [],
   "source": []
  },
  {
   "cell_type": "markdown",
   "id": "593c9626-4ba0-444a-b934-c26a85a42ee3",
   "metadata": {},
   "source": [
    "### OpenCV `cv2.imread()` 옵션\n",
    "\n",
    "| 옵션                        | 값   | 설명                                    |\n",
    "|-----------------------------|-------|----------------------------------------|\n",
    "| `cv2.IMREAD_COLOR`          | `1`   | 컬러 이미지 (기본값)                   |\n",
    "| `cv2.IMREAD_GRAYSCALE`      | `0`   | 흑백 이미지                             |\n",
    "| `cv2.IMREAD_UNCHANGED`      | `-1`  | 원본 데이터 그대로 읽기                 |\n",
    "| `cv2.IMREAD_ANYCOLOR`       |       | 가능한 경우 컬러로 읽기                 |\n",
    "| `cv2.IMREAD_ANYDEPTH`       |       | 원본 비트(8/16/32) 깊이로 읽기          |\n",
    "| `cv2.IMREAD_REDUCED_COLOR_2`|       | 컬러 이미지, 원본의 1/2 크기           |\n",
    "| `cv2.IMREAD_REDUCED_COLOR_4`|       | 컬러 이미지, 원본의 1/4 크기           |\n",
    "| `cv2.IMREAD_REDUCED_COLOR_8`|       | 컬러 이미지, 원본의 1/8 크기           |\n",
    "| `cv2.IMREAD_REDUCED_GRAYSCALE_2` |   | 흑백 이미지, 원본의 1/2 크기           |\n",
    "| `cv2.IMREAD_REDUCED_GRAYSCALE_4` |   | 흑백 이미지, 원본의 1/4 크기           |\n",
    "| `cv2.IMREAD_REDUCED_GRAYSCALE_8` |   | 흑백 이미지, 원본의 1/8 크기           |"
   ]
  },
  {
   "cell_type": "code",
   "execution_count": null,
   "id": "8d6ad4df",
   "metadata": {},
   "outputs": [],
   "source": [
    "# 이미지 파일을 흑백(그레이스케일) 모드로 읽어들임\n",
    "# cv2.IMREAD_GRAYSCALE 옵션은 0과 동일하며, 이미지를 흑백으로 읽습니다.\n",
    "#image = cv2.imread('images/camus.jpg', cv2.IMREAD_GRAYSCALE)"
   ]
  },
  {
   "cell_type": "code",
   "execution_count": null,
   "id": "06c304bd",
   "metadata": {},
   "outputs": [],
   "source": [
    "# 흑백 이미지의 픽셀 값의 최소값과 최대값을 출력\n",
    "# 흑백 이미지에서는 픽셀 값이 0(검정)에서 255(흰색) 사이의 값을 가집니다."
   ]
  },
  {
   "cell_type": "code",
   "execution_count": null,
   "id": "1f1cb49a",
   "metadata": {},
   "outputs": [],
   "source": [
    "# 이미지 배열의 특정 영역(100행~200행, 200열~300열)을 흰색(255)으로 변경\n",
    "# 흑백 이미지에서 픽셀 값이 255이면 완전한 흰색을 의미"
   ]
  },
  {
   "cell_type": "code",
   "execution_count": null,
   "id": "ceb94800",
   "metadata": {},
   "outputs": [],
   "source": [
    "# 이미지를 컬러 모드로 읽어들임\n",
    "# cv2.IMREAD_COLOR는 컬러 이미지를 읽기 위한 기본 옵션 (BGR 형식으로 불러옴)\n",
    "# image = cv2.imread('images/bird.jpg', 1)\n",
    "# BGR 형식에서 RGB 형식으로 색상 변환\n",
    "# OpenCV는 기본적으로 이미지를 BGR(Blue, Green, Red) 순서로 읽어들이지만,\n",
    "# Matplotlib는 RGB(Red, Green, Blue) 순서를 사용하므로 변환이 필요합니다."
   ]
  },
  {
   "cell_type": "code",
   "execution_count": null,
   "id": "558a37ee",
   "metadata": {},
   "outputs": [],
   "source": []
  },
  {
   "cell_type": "code",
   "execution_count": null,
   "id": "c92ac42f",
   "metadata": {},
   "outputs": [],
   "source": [
    "# 컬러 이미지의 특정 영역(100행~200행, 200열~300열)에 대해 파란색 채널(B 채널) 값을 255로 설정\n",
    "# OpenCV는 기본적으로 BGR(파랑, 초록, 빨강) 순서로 채널을 사용합니다.\n",
    "# new_image[100:200, 200:300, 0]: 0번 채널(파란색)을 선택하여 값을 변경\n",
    "# 255는 해당 채널의 최대값으로, 파란색을 강하게 나타냅니다."
   ]
  },
  {
   "cell_type": "markdown",
   "id": "18e2024f-876c-4204-82f1-7b72dff4eca3",
   "metadata": {},
   "source": [
    "##  이미지 샘플링(Sampling)과 양자화(Quantization)\n",
    "\n",
    "샘플링:  \n",
    "- 원본 이미지를 읽고 흑백으로 변환.  \n",
    "- 리샘플링하여 해상도를 낮춘 이미지를 시각화.\n",
    "<br></br>\n",
    "양자화:\n",
    "- 아날로그 또는 연속적인 값을 이산적인 값의 집합으로 변환  \n",
    "- 비트 수에 따라 픽셀 값을 정규화 및 재배치.  \n",
    "- 예: 2비트로 양자화 시, 0~255 범위의 값을 다음 단계로 매핑:\n",
    "```\n",
    "0~63 → 0\n",
    "64~127 → 1\n",
    "128~191 → 2\n",
    "192~255 → 3\n",
    "```"
   ]
  },
  {
   "cell_type": "code",
   "execution_count": null,
   "id": "53b3b054",
   "metadata": {},
   "outputs": [],
   "source": [
    "# 이미지 불러오기 (흑백 변환)"
   ]
  },
  {
   "cell_type": "code",
   "execution_count": null,
   "id": "c6833401",
   "metadata": {},
   "outputs": [],
   "source": [
    "# 다양한 샘플링 크기\n",
    "    # 리샘플링 (INTER_AREA는 리사이징 시 적합한 보간 방법)\n",
    "    # 다시 원본 크기로 확대 (보여주기 위해)"
   ]
  },
  {
   "cell_type": "markdown",
   "id": "e4474b35-0b72-4710-80fc-455be97b9dac",
   "metadata": {},
   "source": [
    "### 양자화 level에 따른 이미지 픽셀값의 최대/최소값\n",
    "\n",
    "2 비트 양자화에서 레벨의 범위:0,1,2,3 → 4단계 (0~255 범위를 4단계로 나누기)\n",
    "\n",
    "각 단계의 크기는 256/4=64 이므로 양자화된 값은 각 레벨에 대해 레벨×64로 매핑됩니다.  \n",
    "따라서 양자화 값은:\n",
    "\n",
    "레벨 0: 0×64=0 (최소값)  \n",
    "레벨 3: 3×64=192 (최대값)"
   ]
  },
  {
   "cell_type": "code",
   "execution_count": null,
   "id": "2fd4be90",
   "metadata": {},
   "outputs": [],
   "source": [
    "# 이미지 양자화\n",
    "def quantize_image(image, bits):\n",
    "    # 양자화 레벨을 계산 (2^bits)\n",
    "    # 이미지 픽셀 값을 정규화한 뒤, 양자화 단위에 맞게 변환\n",
    "# 양자화할 비트 수 정의 (2비트, 4비트, 8비트)\n",
    "    # 각 비트 수에 따라 양자화 수행\n",
    "    # 양자화된 이미지의 최소값과 최대값 출력\n",
    "    # 양자화된 이미지를 플롯에 추가"
   ]
  },
  {
   "cell_type": "markdown",
   "id": "51587b65-1894-4653-aca4-c239c123414c",
   "metadata": {},
   "source": [
    "## Convolution"
   ]
  },
  {
   "cell_type": "markdown",
   "id": "5c2f4659-4f70-4234-8a81-0d2f6055e50f",
   "metadata": {},
   "source": [
    "### Blurring kernel\n",
    "\n",
    "- cv2.filter2D(new_image, ddepth, kernel)\n",
    "\n",
    "    - cv2.filter2D() 함수는 이미지를 필터링(컨볼루션)할 때 사용되며, 주어진 커널(kernel)을 이미지에 적용합니다. \n",
    "    - new_image: 입력 이미지. 필터를 적용할 원본 이미지.\n",
    "    - ddepth: 출력 이미지의 픽셀 데이터 깊이(destination depth) - 8비트, 16비트, 32비트 등.  \n",
    "    - kernel: 필터링에 사용할 커널(행렬)."
   ]
  },
  {
   "cell_type": "code",
   "execution_count": null,
   "id": "2b3dafe6",
   "metadata": {},
   "outputs": [],
   "source": [
    "# 이미지를 컬러 모드로 읽어들임 (BGR 형식으로 불러옴)\n",
    "# BGR 형식을 RGB 형식으로 변환\n",
    "# OpenCV는 기본적으로 이미지를 BGR 형식으로 읽으므로, Matplotlib에서 올바르게 표시하기 위해 RGB로 변환\n",
    "# 블러링(흐림 효과)을 위한 커널 생성\n",
    "# np.ones((5, 5)) / 20: 5x5 크기의 모든 요소가 1/20(=0.05)인 커널을 생성\n",
    "# 필터링(컨볼루션) 적용하여 이미지에 블러링 효과 추가\n",
    "# cv2.filter2D(): 주어진 커널을 사용해 필터링을 수행\n",
    "# -1: 입력 이미지의 비트 깊이(ddepth)를 출력 이미지에 그대로 사용"
   ]
  },
  {
   "cell_type": "markdown",
   "id": "b186817c",
   "metadata": {},
   "source": [
    "### Laplacian kernel\n",
    "- 윤곽선 표시 - 이미지의 밝기(픽셀 강도)가 급격히 변하는 경계(즉, 윤곽선)를 강조하는 데 유용"
   ]
  },
  {
   "cell_type": "code",
   "execution_count": null,
   "id": "2d25de88",
   "metadata": {},
   "outputs": [],
   "source": [
    "# 이미지를 컬러 모드로 읽어들임 (BGR 형식으로 불러옴)\n",
    "# 이미지를 흑백(그레이스케일)으로 변환\n",
    "# 라플라시안 커널(Laplacian Kernel) 정의\n",
    "# 경계선(윤곽선) 검출을 위한 3x3 크기의 필터\n",
    "# 라플라시안 필터 적용\n",
    "# cv2.filter2D(): 주어진 커널을 사용해 필터링을 수행\n",
    "# -1: 입력 이미지의 비트 깊이(ddepth)를 출력 이미지에 그대로 사용"
   ]
  },
  {
   "cell_type": "markdown",
   "id": "709f23e9",
   "metadata": {},
   "source": [
    "### Sharpen kernel\n",
    "- 흐릿한 사진을 또렷하게 하는 효과"
   ]
  },
  {
   "cell_type": "code",
   "execution_count": null,
   "id": "fad8fb58",
   "metadata": {},
   "outputs": [],
   "source": [
    "# 이미지를 컬러 모드로 읽어들임 (BGR 형식으로 불러옴)\n",
    "# OpenCV는 기본적으로 이미지를 BGR 형식으로 읽으므로, Matplotlib에서 올바르게 표시하기 위해 RGB로 변환\n",
    "# 샤프닝(Sharpening) 커널 정의\n",
    "# 흐릿한 이미지를 선명하게 만드는 데 사용되는 3x3 크기의 필터\n",
    "# 중심 값(5)이 주변 값(-1)보다 크므로 중심 픽셀을 강조하여 이미지를 선명하게 만듦\n",
    "# 샤프닝 필터 적용\n",
    "# -1: 입력 이미지의 비트 깊이(ddepth)를 출력 이미지에 그대로 사용"
   ]
  },
  {
   "cell_type": "markdown",
   "id": "b22f16b2",
   "metadata": {},
   "source": [
    "### Sobel kernel\n",
    "- 강도 기울기 (intensity gradient) 감지"
   ]
  },
  {
   "cell_type": "code",
   "execution_count": null,
   "id": "fb8b9f42",
   "metadata": {},
   "outputs": [],
   "source": [
    "# 이미지를 컬러 모드로 읽어들임 (BGR 형식으로 불러옴)\n",
    "# cv2.COLOR_BGR2GRAY: BGR 형식의 이미지를 그레이스케일 형식으로 변환\n",
    "# Sobel 커널 1 (수평 방향 경계선 감지)\n",
    "# - 수평 방향(가로)으로 강도 기울기를 계산\n",
    "# - 양의 값(1, 2, 1)은 오른쪽 방향, 음의 값(-1, -2, -1)은 왼쪽 방향의 경계를 강조\n",
    "# Sobel 커널 2 (수직 방향 경계선 감지)\n",
    "# - 수직 방향(세로)으로 강도 기울기를 계산\n",
    "# - 양의 값(1, 2, 1)은 아래 방향, 음의 값(-1, -2, -1)은 위 방향의 경계를 강조\n",
    "# Sobel 커널 1을 사용하여 수평 방향 경계선 감지\n",
    "# Sobel 커널 2를 사용하여 수직 방향 경계선 감지"
   ]
  },
  {
   "cell_type": "markdown",
   "id": "983cdefb-bcb5-453b-98a1-7aa8b2e641da",
   "metadata": {},
   "source": [
    "## 연습 문제"
   ]
  },
  {
   "cell_type": "markdown",
   "id": "7f2986aa-67c8-41f6-b43c-313e4c713c9f",
   "metadata": {},
   "source": [
    "### 이미지 읽기 및 변환\n",
    "- images folder의 이미지를 임으로 고르고 그레이스케일로 읽은 후, 이미지 크기(가로, 세로)를 출력하세요.  \n",
    "- 이미지를 컬러 모드로 읽고, 특정 영역(예: 50x50 픽셀)의 빨간색 채널 값을 255로 설정한 결과를 시각화하세요."
   ]
  },
  {
   "cell_type": "code",
   "execution_count": null,
   "id": "11911918",
   "metadata": {},
   "outputs": [],
   "source": []
  },
  {
   "cell_type": "markdown",
   "id": "c0144bc9-0fbf-4ed4-9830-8513b1791c6e",
   "metadata": {},
   "source": [
    "### 픽셀 조작\n",
    "- 이미지의 좌상단 100x100 영역을 검정색(픽셀 값 0)으로 변경하고, 결과를 확인하세요.  \n",
    "- 원본 이미지의 우하단 50x50 영역을 흰색(픽셀 값 255)으로 변경하고 출력하세요.  "
   ]
  },
  {
   "cell_type": "code",
   "execution_count": null,
   "id": "b7c1b7c1",
   "metadata": {},
   "outputs": [],
   "source": []
  },
  {
   "cell_type": "markdown",
   "id": "9925fca9-b08f-4e3c-bddb-a863d334e5c4",
   "metadata": {},
   "source": [
    "### 컨볼루션 필터\n",
    "- Blurring\n",
    "3×3 크기의 블러링 커널을 생성하여 이미지를 흐리게 처리하고 출력하세요.  \n",
    "7×7 크기의 블러링 커널을 사용했을 때의 결과와 비교하세요.  \n",
    "\n",
    "- Sharpening  \n",
    "샤프닝 커널을 활용하여 흐릿한 이미지를 선명하게 변환하세요.  \n",
    "중심 값을 7로 변경한 샤프닝 커널을 사용했을 때 결과가 어떻게 달라지는지 확인하세요.  \n",
    "\n",
    "- Laplacian  \n",
    "라플라시안 커널을 사용하여 흑백 이미지의 윤곽선을 추출하세요."
   ]
  },
  {
   "cell_type": "code",
   "execution_count": null,
   "id": "db945333",
   "metadata": {},
   "outputs": [],
   "source": []
  }
 ],
 "metadata": {
  "kernelspec": {
   "display_name": "Python 3 (ipykernel)",
   "language": "python",
   "name": "python3"
  },
  "language_info": {
   "codemirror_mode": {
    "name": "ipython",
    "version": 3
   },
   "file_extension": ".py",
   "mimetype": "text/x-python",
   "name": "python",
   "nbconvert_exporter": "python",
   "pygments_lexer": "ipython3",
   "version": "3.9.16"
  }
 },
 "nbformat": 4,
 "nbformat_minor": 5
}
