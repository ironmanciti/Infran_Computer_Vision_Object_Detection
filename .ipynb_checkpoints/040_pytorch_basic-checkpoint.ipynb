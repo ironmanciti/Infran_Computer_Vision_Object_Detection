{
 "cells": [
  {
   "cell_type": "markdown",
   "metadata": {
    "id": "bptrBsIN0aIK"
   },
   "source": [
    "# Pytorch Basic"
   ]
  },
  {
   "cell_type": "code",
   "execution_count": 1,
   "metadata": {
    "colab": {
     "base_uri": "https://localhost:8080/",
     "height": 36
    },
    "id": "FWfvDn9z0aIO",
    "outputId": "492cb6df-2fd0-4c61-c9c0-52b633cf4425"
   },
   "outputs": [
    {
     "data": {
      "text/plain": [
       "'cpu'"
      ]
     },
     "execution_count": 1,
     "metadata": {},
     "output_type": "execute_result"
    }
   ],
   "source": [
    "import torch\n",
    "import numpy as np\n",
    "import matplotlib.pyplot as plt\n",
    "\n",
    "device = \"cuda:0\" if torch.cuda.is_available() else \"cpu\"\n",
    "device"
   ]
  },
  {
   "cell_type": "markdown",
   "metadata": {
    "id": "hDMoQIgGV10z"
   },
   "source": [
    "### torch.tensor 함수\n",
    "\n",
    "`tensor(data, dtype=None, device=None, requires_grad=False) -> Tensor`\n",
    "\n",
    "     data (array_like): list, tuple, numpy ndarray, scalar, and other types.\n",
    "     dtype :  `None`인 경우 `data`에서 데이터 유형을 유추합니다.  \n",
    "     device : `cpu`, `cuda`  \n",
    "     require_grad(bool, optional): autograd가 작업을 기록해야 하는 경우"
   ]
  },
  {
   "cell_type": "markdown",
   "metadata": {
    "id": "3_x6xXPPV100"
   },
   "source": [
    "Float torch tensor 생성"
   ]
  },
  {
   "cell_type": "code",
   "execution_count": 10,
   "metadata": {
    "colab": {
     "base_uri": "https://localhost:8080/"
    },
    "id": "dKTlCKQk0aIS",
    "outputId": "f3ff0b58-e520-48d2-d1b8-2545760f2360"
   },
   "outputs": [
    {
     "name": "stdout",
     "output_type": "stream",
     "text": [
      "float32 \t torch.float32\n"
     ]
    }
   ],
   "source": [
    "# numpy 생성\n",
    "a = np.ones((2, 3), dtype=\"float32\")\n",
    "# tensor 생성\n",
    "b = torch.tensor(a)\n",
    "# dtype\n",
    "print(a.dtype, '\\t', b.dtype)"
   ]
  },
  {
   "cell_type": "markdown",
   "metadata": {
    "id": "77WegQUXV102"
   },
   "source": [
    "Integer tensor 생성"
   ]
  },
  {
   "cell_type": "code",
   "execution_count": 11,
   "metadata": {
    "colab": {
     "base_uri": "https://localhost:8080/"
    },
    "id": "YECq91Ru0aIS",
    "outputId": "b112fb5c-b917-49b5-c66e-b27a1736717e"
   },
   "outputs": [
    {
     "data": {
      "text/plain": [
       "tensor([[1, 2, 3],\n",
       "        [4, 5, 6]], dtype=torch.int32)"
      ]
     },
     "execution_count": 11,
     "metadata": {},
     "output_type": "execute_result"
    }
   ],
   "source": [
    "x = torch.tensor([[1, 2, 3], [4, 5, 6]], dtype=torch.int32)\n",
    "x"
   ]
  },
  {
   "cell_type": "markdown",
   "metadata": {
    "id": "6yb70D7F0aIa"
   },
   "source": [
    "### Tensor 생성\n",
    "\n",
    "- 무작위로 초기화된 행렬 생성 (uniform distribution)"
   ]
  },
  {
   "cell_type": "code",
   "execution_count": 12,
   "metadata": {
    "colab": {
     "base_uri": "https://localhost:8080/"
    },
    "id": "M1ohi1oc0aIa",
    "outputId": "ba4ece33-28ff-4490-961c-23f7413f3cfe"
   },
   "outputs": [
    {
     "name": "stdout",
     "output_type": "stream",
     "text": [
      "tensor([[0.6546, 0.2612, 0.9687],\n",
      "        [0.7305, 0.6529, 0.5353],\n",
      "        [0.3052, 0.5610, 0.4674],\n",
      "        [0.1701, 0.6603, 0.4765],\n",
      "        [0.5735, 0.0480, 0.8190]])\n"
     ]
    }
   ],
   "source": [
    "x = torch.rand(5, 3)\n",
    "print(x)"
   ]
  },
  {
   "cell_type": "markdown",
   "metadata": {
    "id": "_F_MBE6Y0aId"
   },
   "source": [
    "## Tensor 의 shape & dimension (rank)"
   ]
  },
  {
   "cell_type": "code",
   "execution_count": 13,
   "metadata": {
    "colab": {
     "base_uri": "https://localhost:8080/"
    },
    "id": "ptYfxewn0aIe",
    "outputId": "3bfb4bc8-b763-47a6-ff48-1cb0e7c5bf36"
   },
   "outputs": [
    {
     "data": {
      "text/plain": [
       "torch.Size([5])"
      ]
     },
     "execution_count": 13,
     "metadata": {},
     "output_type": "execute_result"
    }
   ],
   "source": [
    "a = torch.Tensor([0, 1, 2, 3, 4])\n",
    "a.size()"
   ]
  },
  {
   "cell_type": "code",
   "execution_count": 14,
   "metadata": {
    "colab": {
     "base_uri": "https://localhost:8080/"
    },
    "id": "R5VHrcai0aIe",
    "outputId": "b009a7fc-2cce-4f5b-893b-a2f880866822"
   },
   "outputs": [
    {
     "data": {
      "text/plain": [
       "torch.Size([5])"
      ]
     },
     "execution_count": 14,
     "metadata": {},
     "output_type": "execute_result"
    }
   ],
   "source": [
    "# size() 와 shape 은 alias\n",
    "a.shape"
   ]
  },
  {
   "cell_type": "code",
   "execution_count": 15,
   "metadata": {
    "colab": {
     "base_uri": "https://localhost:8080/"
    },
    "id": "fXSRrETw0aIe",
    "outputId": "fb0c0aa8-6637-4f18-9c10-e7a4c369a1b2"
   },
   "outputs": [
    {
     "data": {
      "text/plain": [
       "1"
      ]
     },
     "execution_count": 15,
     "metadata": {},
     "output_type": "execute_result"
    }
   ],
   "source": [
    "a.ndimension()"
   ]
  },
  {
   "cell_type": "markdown",
   "metadata": {
    "id": "SOr0fUj50aIg"
   },
   "source": [
    "## numpy 와 tensor 간의 호환성\n",
    "\n",
    "- memory 를 공유하므로 하나를 수정하면 나머지에 모두 반영  "
   ]
  },
  {
   "cell_type": "code",
   "execution_count": 16,
   "metadata": {
    "colab": {
     "base_uri": "https://localhost:8080/"
    },
    "id": "G6Gk3T1L0aIg",
    "outputId": "e9ddef7a-6a14-4d00-fa10-b7773258f8d0"
   },
   "outputs": [
    {
     "data": {
      "text/plain": [
       "tensor([0., 1., 2., 3., 4., 5.], dtype=torch.float64)"
      ]
     },
     "execution_count": 16,
     "metadata": {},
     "output_type": "execute_result"
    }
   ],
   "source": [
    "numpy_array = np.array([0.0, 1.0, 2.0, 3.0, 4.0, 5.0])       # numpy array\n",
    "torch_tensor = torch.from_numpy(numpy_array)               # torch tensor\n",
    "torch_tensor"
   ]
  },
  {
   "cell_type": "code",
   "execution_count": 17,
   "metadata": {
    "colab": {
     "base_uri": "https://localhost:8080/"
    },
    "id": "P1x1lBo70aIh",
    "outputId": "28ca948d-8db7-4cb2-ccb6-8425dea0ca80"
   },
   "outputs": [
    {
     "data": {
      "text/plain": [
       "array([0., 1., 2., 3., 4., 5.])"
      ]
     },
     "execution_count": 17,
     "metadata": {},
     "output_type": "execute_result"
    }
   ],
   "source": [
    "back_to_numpy = torch_tensor.numpy()           # numpy array\n",
    "back_to_numpy"
   ]
  },
  {
   "cell_type": "code",
   "execution_count": 18,
   "metadata": {
    "colab": {
     "base_uri": "https://localhost:8080/"
    },
    "id": "PFxj24eI0aIh",
    "outputId": "9c02f6e6-6ee5-4a00-fbdf-e16d91b97710"
   },
   "outputs": [
    {
     "data": {
      "text/plain": [
       "(array([0., 1., 2., 3., 4., 5.]),\n",
       " tensor([0., 1., 2., 3., 4., 5.], dtype=torch.float64),\n",
       " array([0., 1., 2., 3., 4., 5.]))"
      ]
     },
     "execution_count": 18,
     "metadata": {},
     "output_type": "execute_result"
    }
   ],
   "source": [
    "numpy_array, torch_tensor, back_to_numpy"
   ]
  },
  {
   "cell_type": "code",
   "execution_count": 19,
   "metadata": {
    "colab": {
     "base_uri": "https://localhost:8080/"
    },
    "id": "Bm76gZrW0aIh",
    "outputId": "03872e62-f631-4d21-981e-2309e54b46db"
   },
   "outputs": [
    {
     "data": {
      "text/plain": [
       "(array([100.,   1.,   2.,   3.,   4.,   5.]),\n",
       " tensor([100.,   1.,   2.,   3.,   4.,   5.], dtype=torch.float64),\n",
       " array([100.,   1.,   2.,   3.,   4.,   5.]))"
      ]
     },
     "execution_count": 19,
     "metadata": {},
     "output_type": "execute_result"
    }
   ],
   "source": [
    "back_to_numpy[0] = 100\n",
    "\n",
    "numpy_array, torch_tensor, back_to_numpy"
   ]
  },
  {
   "cell_type": "markdown",
   "metadata": {
    "id": "M7tI-oW-0aIi"
   },
   "source": [
    "## Scalar value\n",
    "\n",
    "- 만약 tensor에 하나의 값만 존재한다면, ``.item()`` method를 사용하여 숫자 값을 얻을 수 있습니다.  "
   ]
  },
  {
   "cell_type": "code",
   "execution_count": 20,
   "metadata": {
    "colab": {
     "base_uri": "https://localhost:8080/"
    },
    "id": "nkyd8fiK0aIi",
    "outputId": "1778539d-ad07-40a9-92fa-4053ea8be1b5"
   },
   "outputs": [
    {
     "data": {
      "text/plain": [
       "-0.9563308358192444"
      ]
     },
     "execution_count": 20,
     "metadata": {},
     "output_type": "execute_result"
    }
   ],
   "source": [
    "x = torch.randn(1)\n",
    "x.item()"
   ]
  },
  {
   "cell_type": "code",
   "execution_count": 21,
   "metadata": {
    "colab": {
     "base_uri": "https://localhost:8080/"
    },
    "id": "UY1-2LF00aIi",
    "outputId": "7bf0c6d9-db0a-493f-db18-703f81037d24"
   },
   "outputs": [
    {
     "name": "stdout",
     "output_type": "stream",
     "text": [
      "tensor(5.)\n",
      "5.0\n"
     ]
    }
   ],
   "source": [
    "a = torch.tensor([5., 3., 4., 1.])\n",
    "\n",
    "print(a[0])\n",
    "print(a[0].item())"
   ]
  },
  {
   "cell_type": "markdown",
   "metadata": {
    "id": "79_l6-6Jr3A4"
   },
   "source": [
    "- tensor 가 array 형태인 경우 `numpy()` method 를 통해 ndarray 반환"
   ]
  },
  {
   "cell_type": "code",
   "execution_count": 22,
   "metadata": {
    "colab": {
     "base_uri": "https://localhost:8080/"
    },
    "id": "pbNz9o3_0aIj",
    "outputId": "059c7864-0e45-4722-c2c5-fc0217d8d889"
   },
   "outputs": [
    {
     "name": "stdout",
     "output_type": "stream",
     "text": [
      "tensor([-0.1851,  0.3275])\n",
      "\n",
      "[-0.18509153  0.32745877]\n"
     ]
    }
   ],
   "source": [
    "x = torch.randn(2)\n",
    "print(x)\n",
    "print()\n",
    "print(x.numpy())"
   ]
  },
  {
   "cell_type": "markdown",
   "metadata": {
    "id": "LnsztCIG0aIm"
   },
   "source": [
    "## Basic Operations - numpy 와 동일"
   ]
  },
  {
   "cell_type": "code",
   "execution_count": 23,
   "metadata": {
    "colab": {
     "base_uri": "https://localhost:8080/"
    },
    "id": "kfjfj9Ak0aIm",
    "outputId": "b22847f9-9a25-49e2-a919-0cc52b2e5b9f"
   },
   "outputs": [
    {
     "data": {
      "text/plain": [
       "tensor([1., 1.])"
      ]
     },
     "execution_count": 23,
     "metadata": {},
     "output_type": "execute_result"
    }
   ],
   "source": [
    "# element-wise 덧셈, 뺄셈\n",
    "u = torch.tensor([1.0, 0.0])\n",
    "v = torch.tensor([0.0, 1.0])\n",
    "z = u + v\n",
    "z"
   ]
  },
  {
   "cell_type": "code",
   "execution_count": 24,
   "metadata": {
    "colab": {
     "base_uri": "https://localhost:8080/"
    },
    "id": "zhgNRITy0aIn",
    "outputId": "c94cf1d6-d8a4-44b1-a1c5-9e706f50e7d4"
   },
   "outputs": [
    {
     "data": {
      "text/plain": [
       "tensor([ 1., -1.])"
      ]
     },
     "execution_count": 24,
     "metadata": {},
     "output_type": "execute_result"
    }
   ],
   "source": [
    "z = u - v\n",
    "z"
   ]
  },
  {
   "cell_type": "code",
   "execution_count": 25,
   "metadata": {
    "colab": {
     "base_uri": "https://localhost:8080/"
    },
    "id": "yuh56pVz0aIn",
    "outputId": "33c56698-4dd2-4bef-9745-7038d8f0d0b1"
   },
   "outputs": [
    {
     "data": {
      "text/plain": [
       "tensor([3, 4])"
      ]
     },
     "execution_count": 25,
     "metadata": {},
     "output_type": "execute_result"
    }
   ],
   "source": [
    "# element-wise 곱셈\n",
    "u = torch.tensor([1, 2])\n",
    "v = torch.tensor([3, 2])\n",
    "z = u * v\n",
    "z"
   ]
  },
  {
   "cell_type": "code",
   "execution_count": 26,
   "metadata": {
    "colab": {
     "base_uri": "https://localhost:8080/"
    },
    "id": "vjapsSQr0aIn",
    "outputId": "fd7242c8-eb7c-4a39-e842-5f50c4844e58"
   },
   "outputs": [
    {
     "data": {
      "text/plain": [
       "tensor([2, 4])"
      ]
     },
     "execution_count": 26,
     "metadata": {},
     "output_type": "execute_result"
    }
   ],
   "source": [
    "# 스칼라 곱\n",
    "y = torch.tensor([1, 2])\n",
    "z = 2 * y\n",
    "z"
   ]
  },
  {
   "cell_type": "code",
   "execution_count": 27,
   "metadata": {
    "colab": {
     "base_uri": "https://localhost:8080/"
    },
    "id": "9lvO5K-D0aIo",
    "outputId": "bfefecd5-4dba-4b3a-c35e-b320efbcd184"
   },
   "outputs": [
    {
     "data": {
      "text/plain": [
       "tensor(5)"
      ]
     },
     "execution_count": 27,
     "metadata": {},
     "output_type": "execute_result"
    }
   ],
   "source": [
    "# dot product\n",
    "u = torch.tensor([1, 2])\n",
    "v = torch.tensor([3, 1])\n",
    "result = torch.dot(u, v)\n",
    "result"
   ]
  },
  {
   "cell_type": "markdown",
   "metadata": {
    "id": "O_7QZDgU0aIz"
   },
   "source": [
    "## TORCH.AUTOGRAD를 이용한 자동 미분\n",
    "\n",
    "- autograd 패키지는 Tensor의 모든 연산에 대해 자동 미분을 제공   \n",
    "\n",
    "- 신경망을 훈련할 때 가장 자주 사용되는 알고리즘은 역전파이다. 이 알고리즘에서 매개 변수 (모델 가중치)는 주어진 매개 변수에 대한 손실 함수의 기울기에 따라 조정된다.  \n",
    "\n",
    "- 이러한 그래디언트를 계산하기 위해 PyTorch에는 torch.autograd라는 내장 미분 엔진이 있다.\n",
    "\n",
    "- ``.requires_grad`` 속성을 True 로 설정하면, 그 tensor에서 이뤄진 모든 연산들을 추적(track)하기 시작  \n",
    "\n",
    "- 계산이 완료된 후 ``.backward()`` 를 호출하여 모든 변화도(gradient)를 자동으로 계산  \n",
    "\n",
    "- 이 Tensor의 변화도는 ``.grad`` 속성에 누적  \n",
    "\n",
    "- Tensor가 기록을 추적하는 것을 중단하게 하려면, ``.detach()`` 를 호출하여 연산 기록으로부터 분리(detach)하여 이후 연산들이 추적되는 것을 방지한다.\n",
    "\n",
    "- 도함수를 계산하기 위해서는 Tensor 의 ``.backward()`` 를 호출"
   ]
  },
  {
   "cell_type": "code",
   "execution_count": 28,
   "metadata": {
    "colab": {
     "base_uri": "https://localhost:8080/"
    },
    "id": "K_j214gH0aIz",
    "outputId": "ca83df94-bb95-4356-d7dd-39892ddbadbb"
   },
   "outputs": [
    {
     "data": {
      "text/plain": [
       "tensor(2., requires_grad=True)"
      ]
     },
     "execution_count": 28,
     "metadata": {},
     "output_type": "execute_result"
    }
   ],
   "source": [
    "x = torch.tensor(2.0, requires_grad=True)\n",
    "x"
   ]
  },
  {
   "cell_type": "code",
   "execution_count": 29,
   "metadata": {
    "colab": {
     "base_uri": "https://localhost:8080/"
    },
    "id": "KHQ-Cio40aIz",
    "outputId": "0ee199ee-74da-44d7-a9ba-145a8f4ef4c6"
   },
   "outputs": [
    {
     "data": {
      "text/plain": [
       "tensor(4., grad_fn=<PowBackward0>)"
      ]
     },
     "execution_count": 29,
     "metadata": {},
     "output_type": "execute_result"
    }
   ],
   "source": [
    "y = x ** 2\n",
    "y"
   ]
  },
  {
   "cell_type": "markdown",
   "metadata": {
    "id": "iYd4NfSL0aI0"
   },
   "source": [
    "y 를 x 에 대하여 미분  \n",
    "$$y(x)=x^2$$\n",
    "\n",
    "$$\\frac{dy(x=2)}{dx}=2x=4 \\rightarrow {y.backward()}$$  "
   ]
  },
  {
   "cell_type": "code",
   "execution_count": 30,
   "metadata": {
    "colab": {
     "base_uri": "https://localhost:8080/"
    },
    "id": "Zwsnd91k0aI0",
    "outputId": "c8f78894-e651-4be9-8967-0da8c2d86e69"
   },
   "outputs": [
    {
     "data": {
      "text/plain": [
       "tensor(4.)"
      ]
     },
     "execution_count": 30,
     "metadata": {},
     "output_type": "execute_result"
    }
   ],
   "source": [
    "y.backward()\n",
    "\n",
    "x.grad"
   ]
  },
  {
   "cell_type": "markdown",
   "metadata": {
    "id": "5XAK-OhP0aI0"
   },
   "source": [
    "## 편미분\n",
    "$$f(u, v) = uv + u^2$$\n",
    "\n",
    "$$\\frac{\\partial{f(u, v)}}{\\partial {u}}=v+2u$$\n",
    "$$\\frac{\\partial{f(u, v)}}{\\partial {v}}=u$$"
   ]
  },
  {
   "cell_type": "code",
   "execution_count": 31,
   "metadata": {
    "colab": {
     "base_uri": "https://localhost:8080/"
    },
    "id": "U2BhlzdZ0aI1",
    "outputId": "c4aa9f80-ab1f-4f70-a540-d8e2cceedf3f"
   },
   "outputs": [
    {
     "data": {
      "text/plain": [
       "tensor(3., grad_fn=<AddBackward0>)"
      ]
     },
     "execution_count": 31,
     "metadata": {},
     "output_type": "execute_result"
    }
   ],
   "source": [
    "u = torch.tensor(1.0, requires_grad=True)\n",
    "v = torch.tensor(2.0, requires_grad=True)\n",
    "\n",
    "f = u * v + u ** 2\n",
    "f"
   ]
  },
  {
   "cell_type": "code",
   "execution_count": 32,
   "metadata": {
    "id": "YI_Wh6of0aI1"
   },
   "outputs": [],
   "source": [
    "f.backward()"
   ]
  },
  {
   "cell_type": "code",
   "execution_count": 33,
   "metadata": {
    "colab": {
     "base_uri": "https://localhost:8080/"
    },
    "id": "yg2eiDc-0aI1",
    "outputId": "4a020938-f69b-4d69-d559-512baf30c242"
   },
   "outputs": [
    {
     "name": "stdout",
     "output_type": "stream",
     "text": [
      "tensor(4.)\n",
      "tensor(1.)\n"
     ]
    }
   ],
   "source": [
    "print(u.grad)\n",
    "print(v.grad)"
   ]
  },
  {
   "cell_type": "markdown",
   "metadata": {
    "id": "DLlWFeT-0aI1"
   },
   "source": [
    "## backpropagation"
   ]
  },
  {
   "cell_type": "code",
   "execution_count": 36,
   "metadata": {
    "colab": {
     "base_uri": "https://localhost:8080/"
    },
    "id": "tc5xdMb20aI2",
    "outputId": "09912675-3880-43f4-be58-57d6b60066e7"
   },
   "outputs": [
    {
     "data": {
      "text/plain": [
       "tensor(1.1270, grad_fn=<BinaryCrossEntropyWithLogitsBackward0>)"
      ]
     },
     "execution_count": 36,
     "metadata": {},
     "output_type": "execute_result"
    }
   ],
   "source": [
    "import torch\n",
    "\n",
    "# 입력 텐서 정의 (5개의 요소, 값은 모두 1)\n",
    "x = torch.ones(5)    # input tensor\n",
    "\n",
    "# Label 텐서 정의 (3개의 요소, 값은 모두 0)\n",
    "y = torch.zeros(3)   # expected output\n",
    "\n",
    "# 가중치 행렬 (5x3 크기), requires_grad=True로 설정하여 학습 가능하도록 설정\n",
    "w = torch.randn(5, 3, requires_grad=True)  # 랜덤 초기화\n",
    "\n",
    "# 편향 벡터 (3차원), requires_grad=True로 설정\n",
    "b = torch.randn(3, requires_grad=True)  # 랜덤 초기화\n",
    "\n",
    "# 선형 연산 (z = x * w + b) 수행\n",
    "z = torch.matmul(x, w) + b  # 행렬 곱 + 편향\n",
    "\n",
    "# 이진 분류 손실 함수 계산 \n",
    "loss = torch.nn.functional.binary_cross_entropy_with_logits(z, y)\n",
    "\n",
    "# 손실 값 출력\n",
    "loss"
   ]
  },
  {
   "cell_type": "markdown",
   "metadata": {
    "id": "JqjobwRj0aI2"
   },
   "source": [
    "### Gradient 계산\n",
    "\n",
    "- 신경망에서 매개변수의 가중치를 최적화하려면 매개변수에 대한 손실 함수의 미분을 계산해야한다. 즉, x 및 y 의 일부 고정 값 아래에서 $\\frac{\\partial loss}{\\partial w}$가 필요. 이러한 미분을 계산하려면 loss.backward ()를 호출 한 다음 w.grad 및 b.grad에서 값을 구한다."
   ]
  },
  {
   "cell_type": "code",
   "execution_count": 37,
   "metadata": {
    "colab": {
     "base_uri": "https://localhost:8080/"
    },
    "id": "morXePXY0aI2",
    "outputId": "2a616d74-6365-4139-d085-a2648b17cf84"
   },
   "outputs": [
    {
     "name": "stdout",
     "output_type": "stream",
     "text": [
      "w 의 기울기 =  tensor([[0.1112, 0.2161, 0.2850],\n",
      "        [0.1112, 0.2161, 0.2850],\n",
      "        [0.1112, 0.2161, 0.2850],\n",
      "        [0.1112, 0.2161, 0.2850],\n",
      "        [0.1112, 0.2161, 0.2850]])\n",
      "b 의 기울기 =  tensor([0.1112, 0.2161, 0.2850])\n"
     ]
    }
   ],
   "source": [
    "loss.backward()\n",
    "print(\"w 의 기울기 = \", w.grad)\n",
    "print(\"b 의 기울기 = \", b.grad)"
   ]
  },
  {
   "cell_type": "markdown",
   "metadata": {
    "id": "E1h8Frco0aI_"
   },
   "source": []
  },
  {
   "cell_type": "markdown",
   "metadata": {},
   "source": [
    "## 연습 문제"
   ]
  },
  {
   "cell_type": "markdown",
   "metadata": {},
   "source": [
    "1. Tensor 생성  \n",
    "3x3 크기의 무작위로 초기화된 텐서를 생성하세요.  \n",
    "이 텐서의 데이터 타입을 확인하세요.  \n",
    "\n",
    "힌트: torch.rand()와 .dtype를 활용하세요.  \n",
    "예상 출력: (3, 3) 모양의 텐서와 데이터 타입 출력."
   ]
  },
  {
   "cell_type": "code",
   "execution_count": null,
   "metadata": {},
   "outputs": [],
   "source": []
  },
  {
   "cell_type": "markdown",
   "metadata": {},
   "source": [
    "2. Tensor의 Shape와 Dimension  \n",
    "[1.0, 2.0, 3.0, 4.0, 5.0] 값을 가진 1D 텐서를 생성하세요.  \n",
    "이 텐서의 크기(size)와 차원(ndimension)을 확인하세요.\n",
    "\n",
    "힌트: torch.Tensor(), .size(), .ndimension()을 활용하세요.  \n",
    "예상 출력: 텐서의 크기 (5,)와 차원 1."
   ]
  },
  {
   "cell_type": "code",
   "execution_count": null,
   "metadata": {},
   "outputs": [],
   "source": []
  },
  {
   "cell_type": "markdown",
   "metadata": {},
   "source": [
    "3. Numpy와 Tensor 간의 호환성  \n",
    "NumPy 배열 [1.0, 2.0, 3.0]을 생성하세요.  \n",
    "이 배열을 PyTorch 텐서로 변환하고, 다시 NumPy 배열로 변환하세요.  \n",
    "NumPy 배열을 수정한 후, PyTorch 텐서 값이 어떻게 변하는지 확인하세요.\n",
    "\n",
    "힌트: torch.from_numpy()와 .numpy()를 활용하세요.  \n",
    "예상 출력: NumPy 배열과 텐서 값이 동기화되어 변경됨."
   ]
  },
  {
   "cell_type": "code",
   "execution_count": null,
   "metadata": {},
   "outputs": [],
   "source": []
  },
  {
   "cell_type": "markdown",
   "metadata": {},
   "source": [
    "4. Basic Operations  \n",
    "[1, 2, 3]과 [4, 5, 6]으로 구성된 두 개의 텐서를 생성하세요.  \n",
    "다음 연산을 수행하세요:  \n",
    "두 텐서의 합.  \n",
    "두 텐서의 차.  \n",
    "두 텐서의 원소별 곱.  \n",
    "첫 번째 텐서에 3을 곱한 결과.\n",
    "\n",
    "힌트: +, -, * 연산과 스칼라 곱셈을 활용하세요.  \n",
    "예상 출력: 합, 차, 원소별 곱, 스칼라 곱 결과."
   ]
  },
  {
   "cell_type": "code",
   "execution_count": null,
   "metadata": {},
   "outputs": [],
   "source": []
  }
 ],
 "metadata": {
  "accelerator": "GPU",
  "colab": {
   "gpuType": "T4",
   "provenance": []
  },
  "kernelspec": {
   "display_name": "Python 3 (ipykernel)",
   "language": "python",
   "name": "python3"
  },
  "language_info": {
   "codemirror_mode": {
    "name": "ipython",
    "version": 3
   },
   "file_extension": ".py",
   "mimetype": "text/x-python",
   "name": "python",
   "nbconvert_exporter": "python",
   "pygments_lexer": "ipython3",
   "version": "3.9.16"
  }
 },
 "nbformat": 4,
 "nbformat_minor": 4
}
