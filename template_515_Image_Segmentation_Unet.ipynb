{
 "cells": [
  {
   "cell_type": "markdown",
   "id": "109ccd2a",
   "metadata": {
    "id": "109ccd2a"
   },
   "source": [
    "# 환경 설정\n",
    "- GPU 사용 설정  \n",
    "- 필요 라이브러리 설치\n",
    "\n",
    "    1. `segmentation-models-pytorch` - **이미지 분할(Segmentation) 모델**을 제공하는 라이브러리\n",
    "        - **주요 기능**  : ResNet, VGG, EfficientNet, Unet, FPN, PSPNet 등 사전 학습된 모델을 지원\n",
    "        - **사용 예**: 의료 영상 분할, 자율 주행차의 도로 영역 탐지, 위성 이미지의 토지 분류 등\n",
    "\n",
    "    2. `albumentations` -  **데이터 증강(Data Augmentation)**을 쉽게 수행할 수 있도록 설계된 라이브러리\n",
    "        - **주요 기능**  :  **이미지 회전, 자르기, 확대, 밝기 조정, 노이즈 추가 등** 다양한 변환을 수행\n",
    "        - **사용 예**: 이미지 분류, 객체 탐지, 이미지 분할 등의 데이터 증강을 통해 모델의 일반화 성능을 높이기 위해 사용\n",
    "\n",
    "    3. `opencv-contrib-python` - **이미지 처리** 라이브러리\n",
    "        - **주요 기능**  : 다양한 이미지/동영상 처리 함수 및 **엣지 검출, 필터링, 형태 변환, 객체 추적** 등 고급 이미지 처리 기능 제공  \n",
    "        - **사용 예**: 객체 검출, 이미지 필터링, 동영상 분석, AR(Augmented Reality), 머신러닝 기반의 컴퓨터 비전 작업 등"
   ]
  },
  {
   "cell_type": "code",
   "execution_count": null,
   "id": "bb3f8bf5",
   "metadata": {},
   "outputs": [],
   "source": [
    "# segmentation-models-pytorch(SMP) 라이브러리 설치\n",
    "# PyTorch 기반으로 다양한 세그멘테이션 모델(U-Net, DeepLabV3 등)을 쉽게 사용할 수 있도록 도와줌\n",
    "# albumentations 라이브러리 최신 버전 설치\n",
    "# 이미지 증강(Augmentation) 및 전처리를 위한 강력한 라이브러리\n",
    "# OpenCV 최신 버전 설치 (contrib 포함)\n",
    "# OpenCV는 이미지 처리 및 영상 분석을 위한 라이브러리\n",
    "# `opencv-contrib-python`은 추가적인 확장 기능(SIFT, SURF 등)이 포함된 버전"
   ]
  },
  {
   "cell_type": "code",
   "execution_count": null,
   "id": "4ee8c385",
   "metadata": {},
   "outputs": [],
   "source": [
    "# Human-Segmentation-Dataset-master dataset 사용을 위해  저장소 복제"
   ]
  },
  {
   "cell_type": "code",
   "execution_count": null,
   "id": "70878e25",
   "metadata": {},
   "outputs": [],
   "source": []
  },
  {
   "cell_type": "markdown",
   "id": "69c190c1",
   "metadata": {
    "id": "69c190c1"
   },
   "source": [
    "### 데이터셋 로드 및 시각화"
   ]
  },
  {
   "cell_type": "code",
   "execution_count": null,
   "id": "b0e3d473",
   "metadata": {},
   "outputs": [],
   "source": [
    "# 학습 데이터셋 정보 (CSV 파일 경로)\n",
    "# 데이터가 저장된 기본 디렉터리\n",
    "# 학습 설정값\n",
    "# 모델 백본(Backbone) 설정\n",
    "#ENCODER = \"timm-efficientnet-b0\"  # EfficientNet 사용 시\n",
    "# 사전 학습된 가중치 설정\n",
    "# 학습 배치 크기 (Batch Size)\n",
    "# 학습에 사용할 디바이스 설정"
   ]
  },
  {
   "cell_type": "code",
   "execution_count": null,
   "id": "5f1742cc",
   "metadata": {},
   "outputs": [],
   "source": [
    "#  이미지 경로와 마스크(정답) 경로를 불러옴."
   ]
  },
  {
   "cell_type": "code",
   "execution_count": null,
   "id": "823f8446",
   "metadata": {},
   "outputs": [],
   "source": [
    "# 첫 번째 이미지와 마스크를 불러와 시각화.\n",
    "# 이미지 및 마스크 경로 설정\n",
    "# 이미지 읽기 및 RGB로 변환\n",
    "# 마스크 읽기"
   ]
  },
  {
   "cell_type": "code",
   "execution_count": null,
   "id": "26b75316",
   "metadata": {},
   "outputs": [],
   "source": [
    "# 원본 이미지 & 객체 마스크(Ground Truth) 비교"
   ]
  },
  {
   "cell_type": "code",
   "execution_count": null,
   "id": "48b7d54e",
   "metadata": {},
   "outputs": [],
   "source": [
    "# 학습용 데이터와 검증용 데이터로 분할"
   ]
  },
  {
   "cell_type": "markdown",
   "id": "04bb26ec",
   "metadata": {
    "id": "04bb26ec"
   },
   "source": [
    "### Data Augmentation (데이터 증강)\n",
    "\n",
    "albumentation documentation : https://albumentations.ai/docs/\n",
    "\n",
    "**albumentations**는 컴퓨터 비전(CV)에서 이미지 데이터 증강(Augmentation)을 수행하는 강력한 라이브러리입니다.\n",
    "특히 **딥러닝 기반 객체 탐지(Object Detection), 세그멘테이션(Segmentation), 이미지 분류(Classification)**에서 널리 사용됩니다.\n",
    "\n",
    "✅ 주요 특징  \n",
    "✔ 빠른 속도 → OpenCV를 기반으로 구현되어, PyTorch와 TensorFlow 대비 매우 빠름  \n",
    "✔ 강력한 변환 기능 → 기본적인 이미지 변환부터 고급 변환(Blur, Noise, Elastic Transform 등)까지 지원  \n",
    "✔ 다양한 응용 가능 → 이미지 분류(Classification), 객체 탐지 (Detection), 세그멘테이션(Segmentation) 지원  "
   ]
  },
  {
   "cell_type": "code",
   "execution_count": null,
   "id": "442a9f7f",
   "metadata": {},
   "outputs": [],
   "source": [
    "# 학습 데이터 증강 설정\n",
    "# 검증 데이터 증강 설정"
   ]
  },
  {
   "cell_type": "markdown",
   "id": "2249154c",
   "metadata": {
    "id": "2249154c"
   },
   "source": [
    "### 사용자 정의 Dataset 생성"
   ]
  },
  {
   "cell_type": "code",
   "execution_count": null,
   "id": "efad368d",
   "metadata": {},
   "outputs": [],
   "source": [
    "class SegmentationDataset(Dataset):\n",
    "    def __init__(self, df, augmentations):\n",
    "    def __len__(self):\n",
    "    def __getitem__(self, idx):\n",
    "        # 주어진 인덱스에 해당하는 데이터 가져오기\n",
    "        # 이미지 읽기 및 RGB로 변환\n",
    "        # 이미지 크기 가져오기\n",
    "        # 마스크 읽기, 그레이스케일로 로드 후 리사이즈\n",
    "        # 증강 적용\n",
    "        # 이미지와 마스크의 차원 변환: (h, w, c) -> (c, h, w)\n",
    "        # 이미지 및 마스크 정규화"
   ]
  },
  {
   "cell_type": "code",
   "execution_count": null,
   "id": "31b7e32a",
   "metadata": {},
   "outputs": [],
   "source": [
    "# 학습용 및 검증용 데이터셋 생성\n",
    "# 학습 데이터셋과 검증 데이터셋의 샘플 수 출력"
   ]
  },
  {
   "cell_type": "code",
   "execution_count": null,
   "id": "5feaf5c2",
   "metadata": {},
   "outputs": [],
   "source": [
    "# 샘플 인덱스 설정\n",
    "# 학습 데이터셋에서 인덱스에 해당하는 이미지와 마스크 가져오기\n",
    "# 첫 번째 서브플롯에 이미지 출력\n",
    "# 두 번째 서브플롯에 마스크(GROUND TRUTH) 출력"
   ]
  },
  {
   "cell_type": "markdown",
   "id": "3ead7837",
   "metadata": {
    "id": "3ead7837"
   },
   "source": [
    "### 데이터 로더 작성"
   ]
  },
  {
   "cell_type": "code",
   "execution_count": null,
   "id": "1fde7ea9",
   "metadata": {},
   "outputs": [],
   "source": [
    "# 학습용 데이터 로더 생성\n",
    "# 검증용 데이터 로더 생성"
   ]
  },
  {
   "cell_type": "code",
   "execution_count": null,
   "id": "e1e4d946",
   "metadata": {},
   "outputs": [],
   "source": []
  },
  {
   "cell_type": "markdown",
   "id": "2c49dbb3",
   "metadata": {
    "id": "2c49dbb3"
   },
   "source": [
    "### Segmentation Model 작성\n",
    "\n",
    "segmentation_models_pytorch documentation : https://smp.readthedocs.io/en/latest/\n",
    "\n",
    "**segmentation-models-pytorch (SMP)**는 PyTorch 기반의 이미지 분할(Segmentation) 모델 라이브러리입니다.\n",
    "\n",
    "- 다양한 세그멘테이션(Segmentation) 모델을 쉽게 사용하고 학습할 수 있도록 제공하는 라이브러리입니다.  \n",
    "- 사전 학습된 가중치(Pretrained Weights)를 활용하여 빠르게 Fine-Tuning할 수 있습니다.  \n",
    "- 객체 탐지(Object Detection)와는 다르게, 픽셀 단위 분할을 수행하는 모델을 지원합니다.  "
   ]
  },
  {
   "cell_type": "code",
   "execution_count": null,
   "id": "26abd53f",
   "metadata": {},
   "outputs": [],
   "source": [
    "# 분할 작업에 자주 사용되는 Dice 손실 함수 임포트"
   ]
  },
  {
   "cell_type": "markdown",
   "id": "0ed3d022",
   "metadata": {
    "id": "0ed3d022"
   },
   "source": [
    "**U-Net 모델 정의**\n",
    "- smp.Unet() → 사전학습된 ResNet18을 백본(Backbone)으로 사용하는 U-Net 모델 생성  \n",
    "- encoder 부분만 사전학습된 가중치 이용. decoder 부분은 무작위 초기화"
   ]
  },
  {
   "cell_type": "code",
   "execution_count": null,
   "id": "de474ef4",
   "metadata": {},
   "outputs": [],
   "source": [
    "# U-Net 모델 정의\n",
    "class SegmentationModel(nn.Module):\n",
    "    def __init__(self):\n",
    "        # Unet 아키텍처 초기화\n",
    "    def forward(self, images, masks=None):\n",
    "        # 입력 이미지를 모델에 통과시켜 예측값(logits) 생성\n",
    "        # 마스크가 주어졌다면 (훈련 모드)\n",
    "            # Dice 손실 계산 : 분할 정확도를 높이기 위해 사용\n",
    "            # Binary Cross Entropy 손실 계산 : 이진 분류 문제 해결을 위해 사용\n",
    "            # 두 손실을 더해서 반환 (훈련 시 사용)\n",
    "        # 마스크가 없을 때는 예측값만 반환 (추론 시 사용)"
   ]
  },
  {
   "cell_type": "code",
   "execution_count": null,
   "id": "63ca09e8",
   "metadata": {},
   "outputs": [],
   "source": []
  },
  {
   "cell_type": "markdown",
   "id": "4194e4e7",
   "metadata": {
    "id": "4194e4e7"
   },
   "source": [
    "### Train and Validation 함수 작성"
   ]
  },
  {
   "cell_type": "code",
   "execution_count": null,
   "id": "bb585ff1",
   "metadata": {},
   "outputs": [],
   "source": [
    "def train_fn(data_loader, model, optimizer):\n",
    "    # 데이터 로더에서 이미지와 마스크를 가져와 학습\n",
    "        # 이미지를 지정한 장치(DEVICE)로 이동\n",
    "        # 옵티마이저의 그래디언트 초기화\n",
    "        # 모델에 이미지를 입력하여 예측값과 손실 계산\n",
    "        # 손실의 그래디언트를 계산하고 역전파\n",
    "        # 옵티마이저를 통해 가중치 업데이트\n",
    "        # 현재 배치의 손실을 총 손실에 더하기\n",
    "    # 평균 손실 반환"
   ]
  },
  {
   "cell_type": "code",
   "execution_count": null,
   "id": "66f46146",
   "metadata": {},
   "outputs": [],
   "source": [
    "def eval_fn(data_loader, model):\n",
    "    # 그래디언트 계산 비활성화\n",
    "        # 데이터 로더에서 이미지와 마스크를 가져와 평가\n",
    "            # 이미지를 지정한 장치(DEVICE)로 이동\n",
    "            # 모델에 이미지를 입력하여 예측값과 손실 계산\n",
    "            # 현재 배치의 손실을 총 손실에 더하기\n",
    "    # 평균 손실 반환"
   ]
  },
  {
   "cell_type": "markdown",
   "id": "RXrrP9Zcc6Nu",
   "metadata": {
    "id": "RXrrP9Zcc6Nu"
   },
   "source": [
    "### Model Train"
   ]
  },
  {
   "cell_type": "code",
   "execution_count": null,
   "id": "0b489111",
   "metadata": {},
   "outputs": [],
   "source": [
    "# Adam 옵티마이저 초기화\n",
    "# 최적 검증 손실 초기값을 무한대로 설정\n",
    "# 학습을 EPOCHS만큼 반복\n",
    "    # 학습 데이터셋을 사용하여 모델 학습\n",
    "    # 검증 데이터셋을 사용하여 모델 평가\n",
    "    # 검증 손실이 이전 최적 손실보다 낮으면 모델 저장\n",
    "    # 현재 에포크의 학습 손실과 검증 손실 출력"
   ]
  },
  {
   "cell_type": "markdown",
   "id": "6ddf0280",
   "metadata": {
    "id": "6ddf0280"
   },
   "source": [
    "### Inference"
   ]
  },
  {
   "cell_type": "code",
   "execution_count": null,
   "id": "1bd8d6af",
   "metadata": {},
   "outputs": [],
   "source": []
  },
  {
   "cell_type": "code",
   "execution_count": null,
   "id": "39ee132c",
   "metadata": {},
   "outputs": [],
   "source": [
    "# 저장된 최적 모델의 가중치 로드\n",
    "# 검증 데이터셋에서 이미지와 마스크 가져오기\n",
    "# 모델을 사용하여 예측 마스크 생성 (차원을 맞추기 위해 unsqueeze 사용)\n",
    "# 예측값에 시그모이드 함수를 적용하여 확률 값으로 변환\n",
    "# 0.5를 기준으로 이진화하여 최종 예측 마스크 생성"
   ]
  },
  {
   "cell_type": "code",
   "execution_count": null,
   "id": "ed5696b5",
   "metadata": {},
   "outputs": [],
   "source": [
    "# 첫 번째 서브플롯에 원본 이미지 출력\n",
    "# 두 번째 서브플롯에 실제 마스크(GROUND TRUTH) 출력\n",
    "# 세 번째 서브플롯에 예측 마스크(PREDICTED MASK) 출력"
   ]
  },
  {
   "cell_type": "code",
   "execution_count": null,
   "id": "9906e989",
   "metadata": {},
   "outputs": [],
   "source": []
  }
 ],
 "metadata": {
  "accelerator": "GPU",
  "colab": {
   "gpuType": "T4",
   "provenance": []
  },
  "kernelspec": {
   "display_name": "Python 3",
   "name": "python3"
  },
  "language_info": {
   "codemirror_mode": {
    "name": "ipython",
    "version": 3
   },
   "file_extension": ".py",
   "mimetype": "text/x-python",
   "name": "python",
   "nbconvert_exporter": "python",
   "pygments_lexer": "ipython3",
   "version": "3.9.16"
  },
  "widgets": {
   "application/vnd.jupyter.widget-state+json": {
    "0d348472e812428c8348e27679784095": {
     "model_module": "@jupyter-widgets/controls",
     "model_module_version": "1.5.0",
     "model_name": "ProgressStyleModel",
     "state": {
      "_model_module": "@jupyter-widgets/controls",
      "_model_module_version": "1.5.0",
      "_model_name": "ProgressStyleModel",
      "_view_count": null,
      "_view_module": "@jupyter-widgets/base",
      "_view_module_version": "1.2.0",
      "_view_name": "StyleView",
      "bar_color": null,
      "description_width": ""
     }
    },
    "0e75dfb3886c45a98ca92d27ceacd21f": {
     "model_module": "@jupyter-widgets/controls",
     "model_module_version": "1.5.0",
     "model_name": "DescriptionStyleModel",
     "state": {
      "_model_module": "@jupyter-widgets/controls",
      "_model_module_version": "1.5.0",
      "_model_name": "DescriptionStyleModel",
      "_view_count": null,
      "_view_module": "@jupyter-widgets/base",
      "_view_module_version": "1.2.0",
      "_view_name": "StyleView",
      "description_width": ""
     }
    },
    "1e9690c570b04a46aa0ffc343c27b8d9": {
     "model_module": "@jupyter-widgets/base",
     "model_module_version": "1.2.0",
     "model_name": "LayoutModel",
     "state": {
      "_model_module": "@jupyter-widgets/base",
      "_model_module_version": "1.2.0",
      "_model_name": "LayoutModel",
      "_view_count": null,
      "_view_module": "@jupyter-widgets/base",
      "_view_module_version": "1.2.0",
      "_view_name": "LayoutView",
      "align_content": null,
      "align_items": null,
      "align_self": null,
      "border": null,
      "bottom": null,
      "display": null,
      "flex": null,
      "flex_flow": null,
      "grid_area": null,
      "grid_auto_columns": null,
      "grid_auto_flow": null,
      "grid_auto_rows": null,
      "grid_column": null,
      "grid_gap": null,
      "grid_row": null,
      "grid_template_areas": null,
      "grid_template_columns": null,
      "grid_template_rows": null,
      "height": null,
      "justify_content": null,
      "justify_items": null,
      "left": null,
      "margin": null,
      "max_height": null,
      "max_width": null,
      "min_height": null,
      "min_width": null,
      "object_fit": null,
      "object_position": null,
      "order": null,
      "overflow": null,
      "overflow_x": null,
      "overflow_y": null,
      "padding": null,
      "right": null,
      "top": null,
      "visibility": null,
      "width": null
     }
    },
    "3b60a8cbc57c4606a5f479d7fc25180b": {
     "model_module": "@jupyter-widgets/base",
     "model_module_version": "1.2.0",
     "model_name": "LayoutModel",
     "state": {
      "_model_module": "@jupyter-widgets/base",
      "_model_module_version": "1.2.0",
      "_model_name": "LayoutModel",
      "_view_count": null,
      "_view_module": "@jupyter-widgets/base",
      "_view_module_version": "1.2.0",
      "_view_name": "LayoutView",
      "align_content": null,
      "align_items": null,
      "align_self": null,
      "border": null,
      "bottom": null,
      "display": null,
      "flex": null,
      "flex_flow": null,
      "grid_area": null,
      "grid_auto_columns": null,
      "grid_auto_flow": null,
      "grid_auto_rows": null,
      "grid_column": null,
      "grid_gap": null,
      "grid_row": null,
      "grid_template_areas": null,
      "grid_template_columns": null,
      "grid_template_rows": null,
      "height": null,
      "justify_content": null,
      "justify_items": null,
      "left": null,
      "margin": null,
      "max_height": null,
      "max_width": null,
      "min_height": null,
      "min_width": null,
      "object_fit": null,
      "object_position": null,
      "order": null,
      "overflow": null,
      "overflow_x": null,
      "overflow_y": null,
      "padding": null,
      "right": null,
      "top": null,
      "visibility": null,
      "width": null
     }
    },
    "405c55914e4f4fb18a2f30f499a1f5be": {
     "model_module": "@jupyter-widgets/base",
     "model_module_version": "1.2.0",
     "model_name": "LayoutModel",
     "state": {
      "_model_module": "@jupyter-widgets/base",
      "_model_module_version": "1.2.0",
      "_model_name": "LayoutModel",
      "_view_count": null,
      "_view_module": "@jupyter-widgets/base",
      "_view_module_version": "1.2.0",
      "_view_name": "LayoutView",
      "align_content": null,
      "align_items": null,
      "align_self": null,
      "border": null,
      "bottom": null,
      "display": null,
      "flex": null,
      "flex_flow": null,
      "grid_area": null,
      "grid_auto_columns": null,
      "grid_auto_flow": null,
      "grid_auto_rows": null,
      "grid_column": null,
      "grid_gap": null,
      "grid_row": null,
      "grid_template_areas": null,
      "grid_template_columns": null,
      "grid_template_rows": null,
      "height": null,
      "justify_content": null,
      "justify_items": null,
      "left": null,
      "margin": null,
      "max_height": null,
      "max_width": null,
      "min_height": null,
      "min_width": null,
      "object_fit": null,
      "object_position": null,
      "order": null,
      "overflow": null,
      "overflow_x": null,
      "overflow_y": null,
      "padding": null,
      "right": null,
      "top": null,
      "visibility": null,
      "width": null
     }
    },
    "44323006f7264d21a395bbef75695e77": {
     "model_module": "@jupyter-widgets/controls",
     "model_module_version": "1.5.0",
     "model_name": "DescriptionStyleModel",
     "state": {
      "_model_module": "@jupyter-widgets/controls",
      "_model_module_version": "1.5.0",
      "_model_name": "DescriptionStyleModel",
      "_view_count": null,
      "_view_module": "@jupyter-widgets/base",
      "_view_module_version": "1.2.0",
      "_view_name": "StyleView",
      "description_width": ""
     }
    },
    "63579b799982456689df8924aabc8487": {
     "model_module": "@jupyter-widgets/controls",
     "model_module_version": "1.5.0",
     "model_name": "HBoxModel",
     "state": {
      "_dom_classes": [],
      "_model_module": "@jupyter-widgets/controls",
      "_model_module_version": "1.5.0",
      "_model_name": "HBoxModel",
      "_view_count": null,
      "_view_module": "@jupyter-widgets/controls",
      "_view_module_version": "1.5.0",
      "_view_name": "HBoxView",
      "box_style": "",
      "children": [
       "IPY_MODEL_6575a8d857e94eacaee3a015ad69d31c",
       "IPY_MODEL_aa07051b3f27429e9f84a8332b5ac015",
       "IPY_MODEL_93f7ad3116d9471eba69d5882a0d3d37"
      ],
      "layout": "IPY_MODEL_f93b922969904ae4aa2fc106fa4658d7"
     }
    },
    "6575a8d857e94eacaee3a015ad69d31c": {
     "model_module": "@jupyter-widgets/controls",
     "model_module_version": "1.5.0",
     "model_name": "HTMLModel",
     "state": {
      "_dom_classes": [],
      "_model_module": "@jupyter-widgets/controls",
      "_model_module_version": "1.5.0",
      "_model_name": "HTMLModel",
      "_view_count": null,
      "_view_module": "@jupyter-widgets/controls",
      "_view_module_version": "1.5.0",
      "_view_name": "HTMLView",
      "description": "",
      "description_tooltip": null,
      "layout": "IPY_MODEL_81c1768b1ff84e7bb76c6b8b5279f228",
      "placeholder": "​",
      "style": "IPY_MODEL_6d7fcdf03c6442c4ae4f98d77fb76361",
      "value": "model.safetensors: 100%"
     }
    },
    "6d7fcdf03c6442c4ae4f98d77fb76361": {
     "model_module": "@jupyter-widgets/controls",
     "model_module_version": "1.5.0",
     "model_name": "DescriptionStyleModel",
     "state": {
      "_model_module": "@jupyter-widgets/controls",
      "_model_module_version": "1.5.0",
      "_model_name": "DescriptionStyleModel",
      "_view_count": null,
      "_view_module": "@jupyter-widgets/base",
      "_view_module_version": "1.2.0",
      "_view_name": "StyleView",
      "description_width": ""
     }
    },
    "7ec9dfc1299e4d39aef063bfc46f2b6c": {
     "model_module": "@jupyter-widgets/controls",
     "model_module_version": "1.5.0",
     "model_name": "HBoxModel",
     "state": {
      "_dom_classes": [],
      "_model_module": "@jupyter-widgets/controls",
      "_model_module_version": "1.5.0",
      "_model_name": "HBoxModel",
      "_view_count": null,
      "_view_module": "@jupyter-widgets/controls",
      "_view_module_version": "1.5.0",
      "_view_name": "HBoxView",
      "box_style": "",
      "children": [
       "IPY_MODEL_dae92d294eee4d0fb876dc864b474c6e",
       "IPY_MODEL_c0068ac3543d4194bdbc7e5889b7d671",
       "IPY_MODEL_899d448a55cb456a9021d860cb7c3b0b"
      ],
      "layout": "IPY_MODEL_f62182a4085a48c7a7e233ea79f2936b"
     }
    },
    "81c1768b1ff84e7bb76c6b8b5279f228": {
     "model_module": "@jupyter-widgets/base",
     "model_module_version": "1.2.0",
     "model_name": "LayoutModel",
     "state": {
      "_model_module": "@jupyter-widgets/base",
      "_model_module_version": "1.2.0",
      "_model_name": "LayoutModel",
      "_view_count": null,
      "_view_module": "@jupyter-widgets/base",
      "_view_module_version": "1.2.0",
      "_view_name": "LayoutView",
      "align_content": null,
      "align_items": null,
      "align_self": null,
      "border": null,
      "bottom": null,
      "display": null,
      "flex": null,
      "flex_flow": null,
      "grid_area": null,
      "grid_auto_columns": null,
      "grid_auto_flow": null,
      "grid_auto_rows": null,
      "grid_column": null,
      "grid_gap": null,
      "grid_row": null,
      "grid_template_areas": null,
      "grid_template_columns": null,
      "grid_template_rows": null,
      "height": null,
      "justify_content": null,
      "justify_items": null,
      "left": null,
      "margin": null,
      "max_height": null,
      "max_width": null,
      "min_height": null,
      "min_width": null,
      "object_fit": null,
      "object_position": null,
      "order": null,
      "overflow": null,
      "overflow_x": null,
      "overflow_y": null,
      "padding": null,
      "right": null,
      "top": null,
      "visibility": null,
      "width": null
     }
    },
    "899d448a55cb456a9021d860cb7c3b0b": {
     "model_module": "@jupyter-widgets/controls",
     "model_module_version": "1.5.0",
     "model_name": "HTMLModel",
     "state": {
      "_dom_classes": [],
      "_model_module": "@jupyter-widgets/controls",
      "_model_module_version": "1.5.0",
      "_model_name": "HTMLModel",
      "_view_count": null,
      "_view_module": "@jupyter-widgets/controls",
      "_view_module_version": "1.5.0",
      "_view_name": "HTMLView",
      "description": "",
      "description_tooltip": null,
      "layout": "IPY_MODEL_3b60a8cbc57c4606a5f479d7fc25180b",
      "placeholder": "​",
      "style": "IPY_MODEL_a54989648a5e4153ac2e522461ca903d",
      "value": " 156/156 [00:00&lt;00:00, 14.9kB/s]"
     }
    },
    "93f7ad3116d9471eba69d5882a0d3d37": {
     "model_module": "@jupyter-widgets/controls",
     "model_module_version": "1.5.0",
     "model_name": "HTMLModel",
     "state": {
      "_dom_classes": [],
      "_model_module": "@jupyter-widgets/controls",
      "_model_module_version": "1.5.0",
      "_model_name": "HTMLModel",
      "_view_count": null,
      "_view_module": "@jupyter-widgets/controls",
      "_view_module_version": "1.5.0",
      "_view_name": "HTMLView",
      "description": "",
      "description_tooltip": null,
      "layout": "IPY_MODEL_405c55914e4f4fb18a2f30f499a1f5be",
      "placeholder": "​",
      "style": "IPY_MODEL_44323006f7264d21a395bbef75695e77",
      "value": " 46.8M/46.8M [00:00&lt;00:00, 98.5MB/s]"
     }
    },
    "9cd87444321b4a17ba09e43ce319234a": {
     "model_module": "@jupyter-widgets/base",
     "model_module_version": "1.2.0",
     "model_name": "LayoutModel",
     "state": {
      "_model_module": "@jupyter-widgets/base",
      "_model_module_version": "1.2.0",
      "_model_name": "LayoutModel",
      "_view_count": null,
      "_view_module": "@jupyter-widgets/base",
      "_view_module_version": "1.2.0",
      "_view_name": "LayoutView",
      "align_content": null,
      "align_items": null,
      "align_self": null,
      "border": null,
      "bottom": null,
      "display": null,
      "flex": null,
      "flex_flow": null,
      "grid_area": null,
      "grid_auto_columns": null,
      "grid_auto_flow": null,
      "grid_auto_rows": null,
      "grid_column": null,
      "grid_gap": null,
      "grid_row": null,
      "grid_template_areas": null,
      "grid_template_columns": null,
      "grid_template_rows": null,
      "height": null,
      "justify_content": null,
      "justify_items": null,
      "left": null,
      "margin": null,
      "max_height": null,
      "max_width": null,
      "min_height": null,
      "min_width": null,
      "object_fit": null,
      "object_position": null,
      "order": null,
      "overflow": null,
      "overflow_x": null,
      "overflow_y": null,
      "padding": null,
      "right": null,
      "top": null,
      "visibility": null,
      "width": null
     }
    },
    "a02cdfe75d4946c0b2d058ef044c4e91": {
     "model_module": "@jupyter-widgets/controls",
     "model_module_version": "1.5.0",
     "model_name": "ProgressStyleModel",
     "state": {
      "_model_module": "@jupyter-widgets/controls",
      "_model_module_version": "1.5.0",
      "_model_name": "ProgressStyleModel",
      "_view_count": null,
      "_view_module": "@jupyter-widgets/base",
      "_view_module_version": "1.2.0",
      "_view_name": "StyleView",
      "bar_color": null,
      "description_width": ""
     }
    },
    "a54989648a5e4153ac2e522461ca903d": {
     "model_module": "@jupyter-widgets/controls",
     "model_module_version": "1.5.0",
     "model_name": "DescriptionStyleModel",
     "state": {
      "_model_module": "@jupyter-widgets/controls",
      "_model_module_version": "1.5.0",
      "_model_name": "DescriptionStyleModel",
      "_view_count": null,
      "_view_module": "@jupyter-widgets/base",
      "_view_module_version": "1.2.0",
      "_view_name": "StyleView",
      "description_width": ""
     }
    },
    "aa07051b3f27429e9f84a8332b5ac015": {
     "model_module": "@jupyter-widgets/controls",
     "model_module_version": "1.5.0",
     "model_name": "FloatProgressModel",
     "state": {
      "_dom_classes": [],
      "_model_module": "@jupyter-widgets/controls",
      "_model_module_version": "1.5.0",
      "_model_name": "FloatProgressModel",
      "_view_count": null,
      "_view_module": "@jupyter-widgets/controls",
      "_view_module_version": "1.5.0",
      "_view_name": "ProgressView",
      "bar_style": "success",
      "description": "",
      "description_tooltip": null,
      "layout": "IPY_MODEL_9cd87444321b4a17ba09e43ce319234a",
      "max": 46805552,
      "min": 0,
      "orientation": "horizontal",
      "style": "IPY_MODEL_0d348472e812428c8348e27679784095",
      "value": 46805552
     }
    },
    "c0068ac3543d4194bdbc7e5889b7d671": {
     "model_module": "@jupyter-widgets/controls",
     "model_module_version": "1.5.0",
     "model_name": "FloatProgressModel",
     "state": {
      "_dom_classes": [],
      "_model_module": "@jupyter-widgets/controls",
      "_model_module_version": "1.5.0",
      "_model_name": "FloatProgressModel",
      "_view_count": null,
      "_view_module": "@jupyter-widgets/controls",
      "_view_module_version": "1.5.0",
      "_view_name": "ProgressView",
      "bar_style": "success",
      "description": "",
      "description_tooltip": null,
      "layout": "IPY_MODEL_1e9690c570b04a46aa0ffc343c27b8d9",
      "max": 156,
      "min": 0,
      "orientation": "horizontal",
      "style": "IPY_MODEL_a02cdfe75d4946c0b2d058ef044c4e91",
      "value": 156
     }
    },
    "cda00c81e74548e0a9887eb629f095e5": {
     "model_module": "@jupyter-widgets/base",
     "model_module_version": "1.2.0",
     "model_name": "LayoutModel",
     "state": {
      "_model_module": "@jupyter-widgets/base",
      "_model_module_version": "1.2.0",
      "_model_name": "LayoutModel",
      "_view_count": null,
      "_view_module": "@jupyter-widgets/base",
      "_view_module_version": "1.2.0",
      "_view_name": "LayoutView",
      "align_content": null,
      "align_items": null,
      "align_self": null,
      "border": null,
      "bottom": null,
      "display": null,
      "flex": null,
      "flex_flow": null,
      "grid_area": null,
      "grid_auto_columns": null,
      "grid_auto_flow": null,
      "grid_auto_rows": null,
      "grid_column": null,
      "grid_gap": null,
      "grid_row": null,
      "grid_template_areas": null,
      "grid_template_columns": null,
      "grid_template_rows": null,
      "height": null,
      "justify_content": null,
      "justify_items": null,
      "left": null,
      "margin": null,
      "max_height": null,
      "max_width": null,
      "min_height": null,
      "min_width": null,
      "object_fit": null,
      "object_position": null,
      "order": null,
      "overflow": null,
      "overflow_x": null,
      "overflow_y": null,
      "padding": null,
      "right": null,
      "top": null,
      "visibility": null,
      "width": null
     }
    },
    "dae92d294eee4d0fb876dc864b474c6e": {
     "model_module": "@jupyter-widgets/controls",
     "model_module_version": "1.5.0",
     "model_name": "HTMLModel",
     "state": {
      "_dom_classes": [],
      "_model_module": "@jupyter-widgets/controls",
      "_model_module_version": "1.5.0",
      "_model_name": "HTMLModel",
      "_view_count": null,
      "_view_module": "@jupyter-widgets/controls",
      "_view_module_version": "1.5.0",
      "_view_name": "HTMLView",
      "description": "",
      "description_tooltip": null,
      "layout": "IPY_MODEL_cda00c81e74548e0a9887eb629f095e5",
      "placeholder": "​",
      "style": "IPY_MODEL_0e75dfb3886c45a98ca92d27ceacd21f",
      "value": "config.json: 100%"
     }
    },
    "f62182a4085a48c7a7e233ea79f2936b": {
     "model_module": "@jupyter-widgets/base",
     "model_module_version": "1.2.0",
     "model_name": "LayoutModel",
     "state": {
      "_model_module": "@jupyter-widgets/base",
      "_model_module_version": "1.2.0",
      "_model_name": "LayoutModel",
      "_view_count": null,
      "_view_module": "@jupyter-widgets/base",
      "_view_module_version": "1.2.0",
      "_view_name": "LayoutView",
      "align_content": null,
      "align_items": null,
      "align_self": null,
      "border": null,
      "bottom": null,
      "display": null,
      "flex": null,
      "flex_flow": null,
      "grid_area": null,
      "grid_auto_columns": null,
      "grid_auto_flow": null,
      "grid_auto_rows": null,
      "grid_column": null,
      "grid_gap": null,
      "grid_row": null,
      "grid_template_areas": null,
      "grid_template_columns": null,
      "grid_template_rows": null,
      "height": null,
      "justify_content": null,
      "justify_items": null,
      "left": null,
      "margin": null,
      "max_height": null,
      "max_width": null,
      "min_height": null,
      "min_width": null,
      "object_fit": null,
      "object_position": null,
      "order": null,
      "overflow": null,
      "overflow_x": null,
      "overflow_y": null,
      "padding": null,
      "right": null,
      "top": null,
      "visibility": null,
      "width": null
     }
    },
    "f93b922969904ae4aa2fc106fa4658d7": {
     "model_module": "@jupyter-widgets/base",
     "model_module_version": "1.2.0",
     "model_name": "LayoutModel",
     "state": {
      "_model_module": "@jupyter-widgets/base",
      "_model_module_version": "1.2.0",
      "_model_name": "LayoutModel",
      "_view_count": null,
      "_view_module": "@jupyter-widgets/base",
      "_view_module_version": "1.2.0",
      "_view_name": "LayoutView",
      "align_content": null,
      "align_items": null,
      "align_self": null,
      "border": null,
      "bottom": null,
      "display": null,
      "flex": null,
      "flex_flow": null,
      "grid_area": null,
      "grid_auto_columns": null,
      "grid_auto_flow": null,
      "grid_auto_rows": null,
      "grid_column": null,
      "grid_gap": null,
      "grid_row": null,
      "grid_template_areas": null,
      "grid_template_columns": null,
      "grid_template_rows": null,
      "height": null,
      "justify_content": null,
      "justify_items": null,
      "left": null,
      "margin": null,
      "max_height": null,
      "max_width": null,
      "min_height": null,
      "min_width": null,
      "object_fit": null,
      "object_position": null,
      "order": null,
      "overflow": null,
      "overflow_x": null,
      "overflow_y": null,
      "padding": null,
      "right": null,
      "top": null,
      "visibility": null,
      "width": null
     }
    }
   }
  }
 },
 "nbformat": 4,
 "nbformat_minor": 5
}
