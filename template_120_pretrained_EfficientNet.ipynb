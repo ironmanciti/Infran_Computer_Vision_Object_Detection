{
 "cells": [
  {
   "cell_type": "markdown",
   "id": "5babc53a",
   "metadata": {
    "id": "5babc53a"
   },
   "source": [
    "#  **EfficientNet**\n",
    "\n",
    "**EfficientNet은 이미지 분류 모델 계열로, 동급 최고의 정확도를 달성하면서도 모델 크기와 속도 면에서 매우 효율적입니다.**\n",
    "\n",
    "<img src=\"https://pytorch.org/assets/images/classification.jpg\" alt=\"alt\" width=\"30%\"/>\n",
    "\n",
    "---\n",
    "\n",
    "##  **모델 설명**\n",
    "\n",
    "**EfficientNet**은 이미지 분류 모델 계열입니다. 해당 모델은 [EfficientNet: Rethinking Model Scaling for Convolutional Neural Networks](https://arxiv.org/abs/1905.11946) 논문에서 처음 소개되었습니다.  \n",
    "이 노트북에서는 **EfficientNet-B0**, **EfficientNet-B4**, **EfficientNet-WideSE-B0**, **EfficientNet-WideSE-B4** 모델을 로드하고 테스트할 수 있습니다."
   ]
  },
  {
   "cell_type": "code",
   "execution_count": null,
   "id": "4d7e1840",
   "metadata": {},
   "outputs": [],
   "source": [
    "# 'validators'는 URL, 이메일, 도메인 등의 유효성을 검사하는 Python 라이브러리\n",
    "# 이미지 URL이 올바른지 확인할 때 사용"
   ]
  },
  {
   "cell_type": "code",
   "execution_count": null,
   "id": "5a53765f",
   "metadata": {},
   "outputs": [],
   "source": []
  },
  {
   "cell_type": "markdown",
   "id": "499d2501",
   "metadata": {
    "id": "499d2501"
   },
   "source": [
    "### **ImageNet 데이터셋으로 사전 학습된 모델 불러오기**\n",
    "\n",
    "다음 모델 중 하나를 선택할 수 있습니다:\n",
    "\n",
    "| **TorchHub 진입점** | **설명** |\n",
    "| :----- | :----- |\n",
    "| `nvidia_efficientnet_b0` | 기본형 EfficientNet 모델 |\n",
    "| `nvidia_efficientnet_b4` | 확장된 EfficientNet 모델 |\n",
    "| `nvidia_efficientnet_widese_b0` | 기본 EfficientNet 모델보다 Squeeze-and-Excitation(SE) 레이어가 더 넓은 모델 |\n",
    "| `nvidia_efficientnet_widese_b4` | 확장된 EfficientNet 모델보다 Squeeze-and-Excitation(SE) 레이어가 더 넓은 모델 |"
   ]
  },
  {
   "cell_type": "code",
   "execution_count": null,
   "id": "654e169a",
   "metadata": {},
   "outputs": [],
   "source": [
    "# NVIDIA TorchHub에서 EfficientNet 및 전처리 유틸리티 불러오기\n",
    "# EfficientNet-B0 모델 로드\n",
    "# 이미지 전처리 및 후처리 작업을 도와주는 유틸리티"
   ]
  },
  {
   "cell_type": "markdown",
   "id": "a3e1b08a",
   "metadata": {
    "id": "a3e1b08a"
   },
   "source": [
    "샘플 입력 데이터 준비"
   ]
  },
  {
   "cell_type": "code",
   "execution_count": null,
   "id": "50ab0b86",
   "metadata": {},
   "outputs": [],
   "source": [
    "# COCO 데이터셋에서 제공하는 테스트 이미지 URI 4개를 사용\n",
    "# 이미지 전처리 및 배치 생성\n",
    "# - `utils.prepare_input_from_uri(uri)` 함수는 각 이미지 URI를 입력으로 받아 이미지 데이터를 전처리\n",
    "# - 이미지 전처리에는 크기 조정, 정규화, 텐서 변환 등 포함\n",
    "# - torch.cat: 여러 개의 전처리된 이미지를 하나의 텐서(batch)로 결합"
   ]
  },
  {
   "cell_type": "markdown",
   "id": "77aef6da",
   "metadata": {
    "id": "77aef6da"
   },
   "source": [
    "**추론 실행**\n",
    "\n",
    "`pick_n_best(predictions=output, n=topN)` 헬퍼 함수를 사용하여 모델이 예측한 결과 중 **가장 확률이 높은 N개의 가설(hypotheses)**을 선택합니다."
   ]
  },
  {
   "cell_type": "code",
   "execution_count": null,
   "id": "2eb7a56c",
   "metadata": {},
   "outputs": [],
   "source": [
    "# EfficientNet을 사용한 추론 및 상위 N개 결과 선택\n",
    "# 추론 과정에서 그래디언트(Gradient)를 계산하지 않도록 설정\n",
    "# 상위 5개 결과 선택"
   ]
  },
  {
   "cell_type": "markdown",
   "id": "2c473298",
   "metadata": {
    "id": "2c473298"
   },
   "source": [
    "예측 결과 시각화 및 출력"
   ]
  },
  {
   "cell_type": "code",
   "execution_count": null,
   "id": "4e2959cd",
   "metadata": {},
   "outputs": [],
   "source": [
    "    # requests.get: 주어진 URI에서 이미지를 다운로드\n",
    "    # - stream=True: 스트림을 사용해 이미지를 메모리에 로드\n",
    "    # - Image.open: 이미지를 열어 PIL 객체로 변환\n",
    "    # thumbnail: 이미지 크기 조정 (256x256)\n",
    "    # Resampling.LANCZOS: 고품질 리샘플링 필터 사용"
   ]
  },
  {
   "cell_type": "code",
   "execution_count": null,
   "id": "2335e1fe",
   "metadata": {},
   "outputs": [],
   "source": []
  }
 ],
 "metadata": {
  "accelerator": "GPU",
  "colab": {
   "gpuType": "T4",
   "provenance": []
  },
  "kernelspec": {
   "display_name": "Python 3",
   "name": "python3"
  },
  "language_info": {
   "codemirror_mode": {
    "name": "ipython",
    "version": 3
   },
   "file_extension": ".py",
   "mimetype": "text/x-python",
   "name": "python",
   "nbconvert_exporter": "python",
   "pygments_lexer": "ipython3",
   "version": "3.9.16"
  }
 },
 "nbformat": 4,
 "nbformat_minor": 5
}
