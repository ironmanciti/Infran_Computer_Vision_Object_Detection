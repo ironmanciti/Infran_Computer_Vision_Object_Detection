{
 "cells": [
  {
   "cell_type": "markdown",
   "id": "8e8766e4-a124-4ee2-a83f-ec24d202708e",
   "metadata": {
    "id": "8e8766e4-a124-4ee2-a83f-ec24d202708e"
   },
   "source": [
    "# Image Augmentation (이미지 증강) - 데이터 증강 기법\n",
    "- **회전 (Rotation)** - 이미지를 다양한 각도로 회전하여 데이터 변화를 추가.\n",
    "- **좌우 뒤집기 (Horizontal Flip)** - 이미지를 좌우로 반전하여 비대칭성을 학습.\n",
    "- **이동 (Translation)** - 이미지를 일정 방향으로 이동시켜 위치 변화를 학습.\n",
    "- **밝기/대비/채도 조정 (Brightness/Contrast/Saturation)** - 이미지를 다양한 조명 및 색상 조건에 맞게 변환."
   ]
  },
  {
   "cell_type": "code",
   "execution_count": null,
   "id": "85a4572b",
   "metadata": {},
   "outputs": [],
   "source": []
  },
  {
   "cell_type": "code",
   "execution_count": null,
   "id": "9f926414",
   "metadata": {},
   "outputs": [],
   "source": []
  },
  {
   "cell_type": "code",
   "execution_count": null,
   "id": "138483a8",
   "metadata": {},
   "outputs": [],
   "source": [
    "# 이미지 파일 경로 설정\n",
    "# image_path = \"images-Xray/009007.jpg\"\n",
    "# 원본 이미지 읽기"
   ]
  },
  {
   "cell_type": "code",
   "execution_count": null,
   "id": "24da03c5",
   "metadata": {},
   "outputs": [],
   "source": [
    "# 데이터 증강 종류별 파이프라인 정의\n",
    "# 증강 이미지 저장을 위한 딕셔너리\n",
    "    # 증강 변환 정의 (증강 + 텐서 변환)\n",
    "# 원본 이미지와 증강된 이미지를 subplot에 표시\n",
    "# 원본 이미지 표시\n",
    "# 각 증강된 이미지 표시"
   ]
  },
  {
   "cell_type": "markdown",
   "id": "f81ff392-957c-4ee5-a8d9-6799480abe46",
   "metadata": {
    "id": "f81ff392-957c-4ee5-a8d9-6799480abe46"
   },
   "source": [
    "# 연습 문제 - 데이터 증강 변형 및 비교 실습  \n",
    "원본 이미지에 다양한 데이터 증강(Data Augmentation)을 적용하여 변환된 이미지를 시각화하고 비교합니다. 위의 코드를 참고하여 새로운 증강 기법을 추가하고, 각 증강된 이미지의 효과를 확인하세요.\n",
    "\n",
    "\n",
    "1. **기존 증강 기법에 추가**:\n",
    "   - 아래의 증강 기법을 `augmentations` 딕셔너리에 추가하세요:\n",
    "     - **Vertical Flip**: 이미지를 위아래로 뒤집기.\n",
    "     - **Random Crop**: 이미지를 랜덤하게 잘라내고 크기를 원래 크기로 조정.\n",
    "<br></br>\n",
    "2. **각 증강 기법에 대한 비교**:\n",
    "   - 원본 이미지와 기존 증강 기법(회전, 좌우 뒤집기, 이동, 밝기/대비/채도) 그리고 새롭게 추가된 증강 기법(위아래 뒤집기, 랜덤 크롭)을 한 화면에 표시하세요.\n",
    "<br></br>\n",
    "3. **새로운 레이아웃**:\n",
    "   - 원본 이미지를 첫 번째 행에, 각 증강된 이미지를 두 번째 행에 배치하세요.\n",
    "   - subplot의 행과 열 수를 자동으로 조정하여 그래프를 깔끔하게 배치하세요.\n",
    "   - 최종 이미지를 출력하여 비교하세요."
   ]
  },
  {
   "cell_type": "code",
   "execution_count": null,
   "id": "3dbab833",
   "metadata": {},
   "outputs": [],
   "source": []
  }
 ],
 "metadata": {
  "colab": {
   "provenance": []
  },
  "kernelspec": {
   "display_name": "Python 3 (ipykernel)",
   "language": "python",
   "name": "python3"
  },
  "language_info": {
   "codemirror_mode": {
    "name": "ipython",
    "version": 3
   },
   "file_extension": ".py",
   "mimetype": "text/x-python",
   "name": "python",
   "nbconvert_exporter": "python",
   "pygments_lexer": "ipython3",
   "version": "3.9.16"
  }
 },
 "nbformat": 4,
 "nbformat_minor": 5
}
