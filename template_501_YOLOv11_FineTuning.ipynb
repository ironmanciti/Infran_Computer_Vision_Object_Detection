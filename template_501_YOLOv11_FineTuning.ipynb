{
 "cells": [
  {
   "cell_type": "markdown",
   "id": "5c8d5d0a",
   "metadata": {
    "id": "Y0BdoEsz4Td4"
   },
   "source": [
    "#  YOLOv11을 사용한 객체 탐지(Object Detection) 및 분할(Segmentation)\n",
    "- 사전 훈련된 모델 사용"
   ]
  },
  {
   "cell_type": "code",
   "execution_count": null,
   "id": "9a24ee2b",
   "metadata": {},
   "outputs": [],
   "source": [
    "# ultralytics 라이브러리를 설치합니다."
   ]
  },
  {
   "cell_type": "code",
   "execution_count": null,
   "id": "4caccf39",
   "metadata": {},
   "outputs": [],
   "source": [
    "# 현재 시스템의 YOLO 실행 환경을 점검"
   ]
  },
  {
   "cell_type": "markdown",
   "id": "e638f59c",
   "metadata": {
    "id": "ew08I7UMQrRs"
   },
   "source": [
    "## 테스트 이미지 Upload 및 Display"
   ]
  },
  {
   "cell_type": "code",
   "execution_count": null,
   "id": "a3d7058b",
   "metadata": {},
   "outputs": [],
   "source": []
  },
  {
   "cell_type": "code",
   "execution_count": null,
   "id": "4a501307",
   "metadata": {},
   "outputs": [],
   "source": []
  },
  {
   "cell_type": "code",
   "execution_count": null,
   "id": "87ed8ece",
   "metadata": {},
   "outputs": [],
   "source": []
  },
  {
   "cell_type": "code",
   "execution_count": null,
   "id": "57d1a0fe",
   "metadata": {},
   "outputs": [],
   "source": []
  },
  {
   "cell_type": "markdown",
   "id": "a9c34073",
   "metadata": {
    "id": "LDgCA34zUJ2l"
   },
   "source": [
    "##  YOLOv11을 이용한 객체 탐지 (Object Detection)\n"
   ]
  },
  {
   "cell_type": "code",
   "execution_count": null,
   "id": "9758cd98",
   "metadata": {},
   "outputs": [],
   "source": [
    "# Ultralytics YOLO 라이브러리에서 YOLO 클래스 불러오기\n",
    "# YOLOv11의 사전 학습된 모델 로드\n",
    "# 모델이 인식할 수 있는 클래스 이름을 확인하기 위해 데이터 타입과 개수를 출력\n",
    "# 모델이 감지할 수 있는 클래스 리스트 출력\n",
    "# 클래스 이름을 오름차순(알파벳 순)으로 정렬하여 출력"
   ]
  },
  {
   "cell_type": "markdown",
   "id": "0dd8f5d4",
   "metadata": {
    "id": "DNrxgPHoeZ-4"
   },
   "source": [
    "# 테스트 이미지 객체 탐지 수행"
   ]
  },
  {
   "cell_type": "code",
   "execution_count": null,
   "id": "386486cc",
   "metadata": {},
   "outputs": [],
   "source": [
    "# jpg와 png 파일 모두 가져오기\n",
    "# 이미지 파일 경로 확인\n",
    "# 모델에 이미지 파일 전달"
   ]
  },
  {
   "cell_type": "code",
   "execution_count": null,
   "id": "9b1057e6",
   "metadata": {},
   "outputs": [],
   "source": []
  },
  {
   "cell_type": "code",
   "execution_count": null,
   "id": "162add32",
   "metadata": {},
   "outputs": [],
   "source": []
  },
  {
   "cell_type": "code",
   "execution_count": null,
   "id": "50e0134c",
   "metadata": {},
   "outputs": [],
   "source": [
    "# 결과 객체에서 각 클래스의 개수를 계산하고 출력\n",
    "    # 각 박스의 클래스 번호와 클래스 이름 출력"
   ]
  },
  {
   "cell_type": "markdown",
   "id": "3c8660d8",
   "metadata": {
    "id": "SHJkb8D85ZNy"
   },
   "source": [
    "# YOLOv11을 이용한 객체 분할 (Segmentation)"
   ]
  },
  {
   "cell_type": "code",
   "execution_count": null,
   "id": "d64c2b16",
   "metadata": {},
   "outputs": [],
   "source": [
    "# YOLOv11의 사전 학습된 세그멘테이션(Segmentation) 모델 로드\n",
    "# 모델이 감지할 수 있는 객체 클래스 정보를 확인하기 위해 데이터 타입과 총 개수 출력\n",
    "# 모델이 인식할 수 있는 클래스 목록 출력"
   ]
  },
  {
   "cell_type": "code",
   "execution_count": null,
   "id": "957718bd",
   "metadata": {},
   "outputs": [],
   "source": [
    "# jpg와 png 파일 모두 가져오기\n",
    "# 이미지 파일 경로 확인\n",
    "# 모델에 이미지 파일 전달"
   ]
  },
  {
   "cell_type": "code",
   "execution_count": null,
   "id": "68fa4a29",
   "metadata": {},
   "outputs": [],
   "source": []
  },
  {
   "cell_type": "code",
   "execution_count": null,
   "id": "52fd06a9",
   "metadata": {},
   "outputs": [],
   "source": []
  },
  {
   "cell_type": "markdown",
   "id": "4fec662c",
   "metadata": {
    "id": "7Bl-ZtolSahV"
   },
   "source": [
    "# 사용자 정의 데이터셋을 이용한 모델 학습 및 평가 수행\n",
    "\n",
    " Roboflow에서 제공하는 'Pistols' 객체 탐지 데이터셋 다운로드\n",
    "- 권총(pistol)을 포함한 다양한 이미지로 구성되어 있으며, 총 2,986장의 이미지와 3,448개의 라벨을 포함\n",
    "- 이미지는 손에 든 권총, 만화 이미지, 스튜디오에서 촬영한 고해상도 이미지 등 다양\n",
    "-  이 데이터셋은 보안 카메라 영상에서 총기의 존재를 감지하는 모델을 개발하는 등, 총기 탐지 모델을 학습시키는 데 활용"
   ]
  },
  {
   "cell_type": "code",
   "execution_count": null,
   "id": "307d41fc",
   "metadata": {},
   "outputs": [],
   "source": []
  },
  {
   "cell_type": "code",
   "execution_count": null,
   "id": "ae37d130",
   "metadata": {},
   "outputs": [],
   "source": [
    "# 압축 파일 풀기"
   ]
  },
  {
   "cell_type": "markdown",
   "id": "8f5533c8",
   "metadata": {
    "id": "mx9WZDqOUBN3"
   },
   "source": [
    "**Roboflow에서 제공하는 \"Pistols\" 데이터셋의 구성 정보**\n",
    "\n",
    "-  names → 데이터셋에서 탐지할 클래스(객체) 이름을 리스트로 저장\n",
    "-  nc (Number of Classes) → 탐지할 클래스 개수 (여기서는 1개: pistol)\n",
    "\n",
    "즉, 이 데이터셋은 \"pistol(권총)\" 하나의 클래스만 탐지하도록 설계됨."
   ]
  },
  {
   "cell_type": "code",
   "execution_count": null,
   "id": "9580de32",
   "metadata": {},
   "outputs": [],
   "source": [
    "# 데이터셋의 위치를 알려주는 yaml config file"
   ]
  },
  {
   "cell_type": "code",
   "execution_count": null,
   "id": "78f03de0",
   "metadata": {},
   "outputs": [],
   "source": [
    "# 현재 작업 디렉터리를 루트 디렉터리('/')로 변경\n",
    "# 특정 경로에 있는 모든 `.jpg` 이미지 파일 목록을 가져옴\n",
    "# 이미지 파일 개수 출력"
   ]
  },
  {
   "cell_type": "code",
   "execution_count": null,
   "id": "45a18aa1",
   "metadata": {},
   "outputs": [],
   "source": [
    "# 특정 경로에 있는 모든 `.jpg` 이미지 파일 목록을 가져옴\n",
    "# 이미지 개수 출력 (전체 개수)\n",
    "# 이미지 개수를 1/2로 줄이기 (랜덤 샘플링이 아니라 균등 간격으로 선택)\n",
    "# 새로운 폴더 생성 (압축된 이미지 저장용)\n",
    "# 선택된 이미지를 새로운 폴더로 copy\n",
    "# 줄어든 이미지 개수 출력"
   ]
  },
  {
   "cell_type": "code",
   "execution_count": null,
   "id": "ec7bd281",
   "metadata": {},
   "outputs": [],
   "source": [
    "# 이미지 리스트(img_list)를 학습(train)과 검증(validation) 데이터로 분할\n",
    "# - test_size=0.2 : 전체 데이터의 20%를 검증 데이터로 사용\n",
    "# - random_state=2000 : 동일한 분할 결과를 재현 가능하도록 설정 (랜덤 시드 값 고정)\n",
    "# 학습 데이터 개수와 검증 데이터 개수 출력"
   ]
  },
  {
   "cell_type": "code",
   "execution_count": null,
   "id": "ce355d03",
   "metadata": {},
   "outputs": [],
   "source": [
    "# 학습(train) 데이터 리스트를 파일로 저장\n",
    "# 검증(validation) 데이터 리스트를 파일로 저장"
   ]
  },
  {
   "cell_type": "code",
   "execution_count": null,
   "id": "a62fe475",
   "metadata": {},
   "outputs": [],
   "source": [
    "# yaml 모듈을 불러옴 (YAML 파일을 읽고 쓰기 위한 라이브러리)\n",
    "# 기존 YOLO 데이터셋 설정 파일(data.yaml)을 읽기 모드('r')로 열기\n",
    "# data.yaml 파일의 현재 내용 출력\n",
    "# train 및 val 경로를 새롭게 설정\n",
    "# 변경된 내용을 data.yaml 파일에 다시 저장 (쓰기 모드 'w')"
   ]
  },
  {
   "cell_type": "code",
   "execution_count": null,
   "id": "9fb2060d",
   "metadata": {},
   "outputs": [],
   "source": [
    "# update 된 yaml 파일"
   ]
  },
  {
   "cell_type": "code",
   "execution_count": null,
   "id": "f8c618ee",
   "metadata": {},
   "outputs": [],
   "source": [
    "# YOLOv11의 사전 학습된 모델 로드"
   ]
  },
  {
   "cell_type": "markdown",
   "id": "94287de9",
   "metadata": {
    "id": "S_YgUOjQxXBG"
   },
   "source": [
    "파인 튜닝 이전의 모델이 인식할 수 있는 클래스 출력"
   ]
  },
  {
   "cell_type": "code",
   "execution_count": null,
   "id": "b198b291",
   "metadata": {},
   "outputs": [],
   "source": [
    "# model.names의 데이터 타입과 클래스 수 출력\n",
    " # 모델이 인식할 수 있는 클래스 이름 리스트 출력"
   ]
  },
  {
   "cell_type": "code",
   "execution_count": null,
   "id": "cdcc2b74",
   "metadata": {},
   "outputs": [],
   "source": [
    "# 현재의 YOLOv11 이 인식할 수 있는 클래스에 'pistol' 이 있는지 확인"
   ]
  },
  {
   "cell_type": "markdown",
   "id": "d4b9bda0",
   "metadata": {
    "id": "_jhbVdbFaWMw"
   },
   "source": [
    "# Pistol 인식 모델로  파인 튜닝\n",
    "- 약 20분 소요"
   ]
  },
  {
   "cell_type": "code",
   "execution_count": null,
   "id": "ccf8886f",
   "metadata": {},
   "outputs": [],
   "source": [
    "# 모델 학습 실행"
   ]
  },
  {
   "cell_type": "code",
   "execution_count": null,
   "id": "00b912b2",
   "metadata": {},
   "outputs": [],
   "source": []
  },
  {
   "cell_type": "code",
   "execution_count": null,
   "id": "c057c074",
   "metadata": {},
   "outputs": [],
   "source": [
    "# YOLO 모델 가중치가 저장된 디렉터리 확인\n",
    "# 해당 디렉터리에 있는 파일 목록 출력"
   ]
  },
  {
   "cell_type": "markdown",
   "id": "e608a347",
   "metadata": {
    "id": "_Ehv99__xLrb"
   },
   "source": [
    "- 파인 튜닝이후의 모델이 인식할 수 있는 클래스 출력"
   ]
  },
  {
   "cell_type": "code",
   "execution_count": null,
   "id": "f6fcae98",
   "metadata": {},
   "outputs": [],
   "source": [
    "# model.names의 데이터 타입과 클래스 수 출력\n",
    " # 모델이 인식할 수 있는 클래스 이름 리스트 출력"
   ]
  },
  {
   "cell_type": "code",
   "execution_count": null,
   "id": "9bbdd0e0",
   "metadata": {},
   "outputs": [],
   "source": [
    "# val.txt 파일을 읽어서 모든 줄을 리스트로 저장\n",
    "# 리스트에서 랜덤하게 3개 선택\n",
    "# 각 줄의 앞뒤 공백 및 개행 문자 제거\n",
    "# 결과 출력"
   ]
  },
  {
   "cell_type": "code",
   "execution_count": null,
   "id": "046a9aa7",
   "metadata": {},
   "outputs": [],
   "source": []
  },
  {
   "cell_type": "code",
   "execution_count": null,
   "id": "49752cd1",
   "metadata": {},
   "outputs": [],
   "source": []
  },
  {
   "cell_type": "code",
   "execution_count": null,
   "id": "305bc1ad",
   "metadata": {},
   "outputs": [],
   "source": [
    "# jpg와 png 파일 모두 가져오기\n",
    "# 이미지 파일 경로 확인"
   ]
  },
  {
   "cell_type": "markdown",
   "id": "abcece3c",
   "metadata": {
    "id": "tlA0ujGL0JQi"
   },
   "source": [
    "파인 튜닝한 모델의 예측 결과를 시각화"
   ]
  },
  {
   "cell_type": "code",
   "execution_count": null,
   "id": "2dbaef52",
   "metadata": {},
   "outputs": [],
   "source": []
  },
  {
   "cell_type": "code",
   "execution_count": null,
   "id": "cdfc1abc",
   "metadata": {},
   "outputs": [],
   "source": []
  }
 ],
 "metadata": {
  "accelerator": "GPU",
  "colab": {
   "gpuType": "T4",
   "provenance": []
  },
  "kernelspec": {
   "display_name": "Python 3",
   "name": "python3"
  },
  "language_info": {
   "codemirror_mode": {
    "name": "ipython",
    "version": 3
   },
   "file_extension": ".py",
   "mimetype": "text/x-python",
   "name": "python",
   "nbconvert_exporter": "python",
   "pygments_lexer": "ipython3",
   "version": "3.9.16"
  }
 },
 "nbformat": 4,
 "nbformat_minor": 5
}
