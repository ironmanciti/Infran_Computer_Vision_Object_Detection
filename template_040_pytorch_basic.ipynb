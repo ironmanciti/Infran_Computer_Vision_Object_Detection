{
 "cells": [
  {
   "cell_type": "markdown",
   "id": "3d619ba0",
   "metadata": {
    "id": "bptrBsIN0aIK"
   },
   "source": [
    "# Pytorch Basic"
   ]
  },
  {
   "cell_type": "code",
   "execution_count": null,
   "id": "06c47b32",
   "metadata": {},
   "outputs": [],
   "source": []
  },
  {
   "cell_type": "markdown",
   "id": "90995e95",
   "metadata": {
    "id": "hDMoQIgGV10z"
   },
   "source": [
    "### torch.tensor 함수\n",
    "\n",
    "`tensor(data, dtype=None, device=None, requires_grad=False) -> Tensor`\n",
    "\n",
    "     data (array_like): list, tuple, numpy ndarray, scalar, and other types.\n",
    "     dtype :  `None`인 경우 `data`에서 데이터 유형을 유추합니다.  \n",
    "     device : `cpu`, `cuda`  \n",
    "     require_grad(bool, optional): autograd가 작업을 기록해야 하는 경우"
   ]
  },
  {
   "cell_type": "markdown",
   "id": "8dba2f8b",
   "metadata": {
    "id": "3_x6xXPPV100"
   },
   "source": [
    "Float torch tensor 생성"
   ]
  },
  {
   "cell_type": "code",
   "execution_count": null,
   "id": "0190e28b",
   "metadata": {},
   "outputs": [],
   "source": [
    "# numpy 생성\n",
    "# tensor 생성\n",
    "# dtype"
   ]
  },
  {
   "cell_type": "markdown",
   "id": "c0161b00",
   "metadata": {
    "id": "77WegQUXV102"
   },
   "source": [
    "Integer tensor 생성"
   ]
  },
  {
   "cell_type": "code",
   "execution_count": null,
   "id": "7a395af3",
   "metadata": {},
   "outputs": [],
   "source": []
  },
  {
   "cell_type": "markdown",
   "id": "0a80c819",
   "metadata": {
    "id": "6yb70D7F0aIa"
   },
   "source": [
    "### Tensor 생성\n",
    "\n",
    "- 무작위로 초기화된 행렬 생성 (uniform distribution)"
   ]
  },
  {
   "cell_type": "code",
   "execution_count": null,
   "id": "26fe20cc",
   "metadata": {},
   "outputs": [],
   "source": []
  },
  {
   "cell_type": "markdown",
   "id": "2746f2d0",
   "metadata": {
    "id": "_F_MBE6Y0aId"
   },
   "source": [
    "## Tensor 의 shape & dimension (rank)"
   ]
  },
  {
   "cell_type": "code",
   "execution_count": null,
   "id": "3e14b615",
   "metadata": {},
   "outputs": [],
   "source": []
  },
  {
   "cell_type": "code",
   "execution_count": null,
   "id": "c34d3ee7",
   "metadata": {},
   "outputs": [],
   "source": [
    "# size() 와 shape 은 alias"
   ]
  },
  {
   "cell_type": "code",
   "execution_count": null,
   "id": "f9aa3a38",
   "metadata": {},
   "outputs": [],
   "source": []
  },
  {
   "cell_type": "markdown",
   "id": "ac1da0f2",
   "metadata": {
    "id": "SOr0fUj50aIg"
   },
   "source": [
    "## numpy 와 tensor 간의 호환성\n",
    "\n",
    "- memory 를 공유하므로 하나를 수정하면 나머지에 모두 반영  "
   ]
  },
  {
   "cell_type": "code",
   "execution_count": null,
   "id": "45870f51",
   "metadata": {},
   "outputs": [],
   "source": []
  },
  {
   "cell_type": "code",
   "execution_count": null,
   "id": "0f699a64",
   "metadata": {},
   "outputs": [],
   "source": []
  },
  {
   "cell_type": "code",
   "execution_count": null,
   "id": "574dfcdd",
   "metadata": {},
   "outputs": [],
   "source": []
  },
  {
   "cell_type": "code",
   "execution_count": null,
   "id": "1394ea3d",
   "metadata": {},
   "outputs": [],
   "source": []
  },
  {
   "cell_type": "markdown",
   "id": "7d282e3c",
   "metadata": {
    "id": "M7tI-oW-0aIi"
   },
   "source": [
    "## Scalar value\n",
    "\n",
    "- 만약 tensor에 하나의 값만 존재한다면, ``.item()`` method를 사용하여 숫자 값을 얻을 수 있습니다.  "
   ]
  },
  {
   "cell_type": "code",
   "execution_count": null,
   "id": "00d31fb2",
   "metadata": {},
   "outputs": [],
   "source": []
  },
  {
   "cell_type": "code",
   "execution_count": null,
   "id": "2032c6cc",
   "metadata": {},
   "outputs": [],
   "source": []
  },
  {
   "cell_type": "markdown",
   "id": "4712ddf1",
   "metadata": {
    "id": "79_l6-6Jr3A4"
   },
   "source": [
    "- tensor 가 array 형태인 경우 `numpy()` method 를 통해 ndarray 반환"
   ]
  },
  {
   "cell_type": "code",
   "execution_count": null,
   "id": "5124c23d",
   "metadata": {},
   "outputs": [],
   "source": []
  },
  {
   "cell_type": "markdown",
   "id": "19fa3462",
   "metadata": {
    "id": "LnsztCIG0aIm"
   },
   "source": [
    "## Basic Operations - numpy 와 동일"
   ]
  },
  {
   "cell_type": "code",
   "execution_count": null,
   "id": "9ee713b5",
   "metadata": {},
   "outputs": [],
   "source": [
    "# element-wise 덧셈, 뺄셈"
   ]
  },
  {
   "cell_type": "code",
   "execution_count": null,
   "id": "1b643196",
   "metadata": {},
   "outputs": [],
   "source": []
  },
  {
   "cell_type": "code",
   "execution_count": null,
   "id": "4e82dd24",
   "metadata": {},
   "outputs": [],
   "source": [
    "# element-wise 곱셈"
   ]
  },
  {
   "cell_type": "code",
   "execution_count": null,
   "id": "48ce43be",
   "metadata": {},
   "outputs": [],
   "source": [
    "# 스칼라 곱"
   ]
  },
  {
   "cell_type": "code",
   "execution_count": null,
   "id": "442e7b41",
   "metadata": {},
   "outputs": [],
   "source": [
    "# dot product"
   ]
  },
  {
   "cell_type": "markdown",
   "id": "c2195d64",
   "metadata": {
    "id": "O_7QZDgU0aIz"
   },
   "source": [
    "## TORCH.AUTOGRAD를 이용한 자동 미분\n",
    "\n",
    "- autograd 패키지는 Tensor의 모든 연산에 대해 자동 미분을 제공   \n",
    "\n",
    "- 신경망을 훈련할 때 가장 자주 사용되는 알고리즘은 역전파이다. 이 알고리즘에서 매개 변수 (모델 가중치)는 주어진 매개 변수에 대한 손실 함수의 기울기에 따라 조정된다.  \n",
    "\n",
    "- 이러한 그래디언트를 계산하기 위해 PyTorch에는 torch.autograd라는 내장 미분 엔진이 있다.\n",
    "\n",
    "- ``.requires_grad`` 속성을 True 로 설정하면, 그 tensor에서 이뤄진 모든 연산들을 추적(track)하기 시작  \n",
    "\n",
    "- 계산이 완료된 후 ``.backward()`` 를 호출하여 모든 변화도(gradient)를 자동으로 계산  \n",
    "\n",
    "- 이 Tensor의 변화도는 ``.grad`` 속성에 누적  \n",
    "\n",
    "- Tensor가 기록을 추적하는 것을 중단하게 하려면, ``.detach()`` 를 호출하여 연산 기록으로부터 분리(detach)하여 이후 연산들이 추적되는 것을 방지한다.\n",
    "\n",
    "- 도함수를 계산하기 위해서는 Tensor 의 ``.backward()`` 를 호출"
   ]
  },
  {
   "cell_type": "code",
   "execution_count": null,
   "id": "fec677f5",
   "metadata": {},
   "outputs": [],
   "source": []
  },
  {
   "cell_type": "code",
   "execution_count": null,
   "id": "2cb20a6c",
   "metadata": {},
   "outputs": [],
   "source": []
  },
  {
   "cell_type": "markdown",
   "id": "435180b7",
   "metadata": {
    "id": "iYd4NfSL0aI0"
   },
   "source": [
    "y 를 x 에 대하여 미분  \n",
    "$$y(x)=x^2$$\n",
    "\n",
    "$$\\frac{dy(x=2)}{dx}=2x=4 \\rightarrow {y.backward()}$$  "
   ]
  },
  {
   "cell_type": "code",
   "execution_count": null,
   "id": "5a67919a",
   "metadata": {},
   "outputs": [],
   "source": []
  },
  {
   "cell_type": "code",
   "execution_count": null,
   "id": "536aafef",
   "metadata": {},
   "outputs": [],
   "source": []
  }
 ],
 "metadata": {
  "accelerator": "GPU",
  "colab": {
   "gpuType": "T4",
   "provenance": []
  },
  "kernelspec": {
   "display_name": "Python 3 (ipykernel)",
   "language": "python",
   "name": "python3"
  },
  "language_info": {
   "codemirror_mode": {
    "name": "ipython",
    "version": 3
   },
   "file_extension": ".py",
   "mimetype": "text/x-python",
   "name": "python",
   "nbconvert_exporter": "python",
   "pygments_lexer": "ipython3",
   "version": "3.9.16"
  }
 },
 "nbformat": 4,
 "nbformat_minor": 5
}
