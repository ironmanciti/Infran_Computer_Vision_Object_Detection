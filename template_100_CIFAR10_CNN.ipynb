{
 "cells": [
  {
   "cell_type": "markdown",
   "id": "d8c9dec3",
   "metadata": {
    "id": "q4RMbkolIgZP"
   },
   "source": [
    "# 100. CIFAR-10 을 이용한 CNN 구축\n",
    "\n",
    "- **CNN**을 학습하여 CIFAR-10 데이터베이스의 이미지를 분류합니다."
   ]
  },
  {
   "cell_type": "code",
   "execution_count": null,
   "id": "95b6d9a4",
   "metadata": {},
   "outputs": [],
   "source": []
  },
  {
   "cell_type": "code",
   "execution_count": null,
   "id": "4f70bb2c",
   "metadata": {},
   "outputs": [],
   "source": []
  },
  {
   "cell_type": "markdown",
   "id": "984bbfda",
   "metadata": {
    "id": "RXokErjxgyjY"
   },
   "source": [
    "## Data Download 및 Data Loader 를 이용하여 Train, Validation data 준비\n",
    "\n",
    "transforms.ToTensor()의 주요 특징:\n",
    "\n",
    "1) 데이터 타입 변환: PIL 이미지나 NumPy ndarray를 torch.FloatTensor로 변환  \n",
    "2) 스케일링: 이미지의 픽셀 값 범위를 [0, 255]에서 [0.0, 1.0]으로 스케일링  \n",
    "3) 차원 재배열: PyTorch에서는 이미지 데이터를 [C, H, W] 형식(채널, 높이, 너비)으로 처리하므로 입력 이미지 데이터의 차원을 이 형식으로 자동 재배열"
   ]
  },
  {
   "cell_type": "code",
   "execution_count": null,
   "id": "6bbf008f",
   "metadata": {},
   "outputs": [],
   "source": [
    "# 이미지 데이터에 대한 변환(transform) 조합을 정의\n",
    "# 이 변환은 이미지 데이터를 증강(augmentation)하고 전처리하는 과정을 포함합니다.\n",
    "# CIFAR10 훈련 데이터셋을 다운로드하고, 위에서 정의한 변환을 적용\n",
    "# CIFAR10 테스트 데이터셋을 다운로드하고, 위에서 정의한 변환을 적용"
   ]
  },
  {
   "cell_type": "code",
   "execution_count": null,
   "id": "ef9243fb",
   "metadata": {},
   "outputs": [],
   "source": []
  },
  {
   "cell_type": "code",
   "execution_count": null,
   "id": "cf3c2d7d",
   "metadata": {},
   "outputs": [],
   "source": [
    "# CIFAR-10은 10개의 서로 다른 객체 클래스를 포함하는 이미지 데이터셋입니다."
   ]
  },
  {
   "cell_type": "markdown",
   "id": "e30a2f7f",
   "metadata": {
    "id": "mwlI9nSwg5j-"
   },
   "source": [
    "### 일부 Data 시각화\n",
    "\n",
    "- matplotlib 은 channel 위치가 last 이므로 transpose(1, 2, 0) 로 image 수정"
   ]
  },
  {
   "cell_type": "code",
   "execution_count": null,
   "id": "5e29352e",
   "metadata": {},
   "outputs": [],
   "source": [
    "    # np.transpose 함수를 사용하여 'x' 텐서의 차원을 재배열\n",
    "    # (1, 2, 0)은 채널 차원을 마지막으로 이동시키고, 높이와 너비 차원을 앞으로 가져옵니다.\n",
    "    # 이 형식은 matplotlib와 같은 일부 라이브러리에서 이미지를 표시할 때 요구되는 형식입니다.\n",
    "    # * 0.5 + 0.5 연산은 정규화를 되돌려 픽셀 값을 원본 범위(0~1)로 unnormalize"
   ]
  },
  {
   "cell_type": "markdown",
   "id": "d3d6f95d",
   "metadata": {
    "id": "6SdZUr6fIgZa"
   },
   "source": [
    "## Model build\n",
    "\n",
    "### Custom Model\n",
    "\n",
    "- Output Size = (W - F + 2P) / S + 1  \n",
    "- output_size / Maxpool(2)"
   ]
  },
  {
   "cell_type": "code",
   "execution_count": null,
   "id": "8365ac82",
   "metadata": {},
   "outputs": [],
   "source": [
    "def output_size(W, F, P, S, poolsize=1):"
   ]
  },
  {
   "cell_type": "markdown",
   "id": "bbb39b97",
   "metadata": {
    "id": "qaFdOdKn4nIW"
   },
   "source": [
    "input image size : (32, 32)  \n",
    "kernel size : 3  \n",
    "padding : 1  \n",
    "stride : 1"
   ]
  },
  {
   "cell_type": "code",
   "execution_count": null,
   "id": "b8bdb46d",
   "metadata": {},
   "outputs": [],
   "source": [
    "# CNN의 출력 크기 변화를 단계별로 계산"
   ]
  },
  {
   "cell_type": "code",
   "execution_count": null,
   "id": "2b28b618",
   "metadata": {},
   "outputs": [],
   "source": [
    "class Net(nn.Module):\n",
    "    def __init__(self):\n",
    "        # 3개의 입력 채널을 받아 16개의 출력 채널을 생성\n",
    "        # 커널 크기는 3, 패딩은 1로 설정하여 입력 이미지의 크기를 유지합니다.\n",
    "        # 16개의 입력 채널을 받아 32개의 출력 채널을 생성\n",
    "        # 32개의 입력 채널을 받아 64개의 출력 채널을 생성\n",
    "        # 첫 번째 완전 연결 층을 정의합니다. 입력 특징의 수는 4*4*64, 출력 특징의 수는 256입니다.\n",
    "        # 두 번째 완전 연결 층을 정의합니다. 10개의 출력 클래스에 대응합니다.\n",
    "    def forward(self, x):\n",
    "        # 합성곱 층과 배치 정규화, ReLU 활성화 함수, 최대 풀링을 차례로 적용\n",
    "        # 특징 맵을 1차원으로 평탄화\n",
    "        # 드롭아웃 적용\n",
    "        # 완전 연결 층과 배치 정규화, ReLU 활성화 함수 적용\n",
    "        # 최종 출력 계산"
   ]
  },
  {
   "cell_type": "code",
   "execution_count": null,
   "id": "5a91cbf7",
   "metadata": {},
   "outputs": [],
   "source": []
  },
  {
   "cell_type": "markdown",
   "id": "b579a753",
   "metadata": {
    "id": "G-cUi6OjIgZc"
   },
   "source": [
    "### Model Summary"
   ]
  },
  {
   "cell_type": "code",
   "execution_count": null,
   "id": "d3411860",
   "metadata": {},
   "outputs": [],
   "source": []
  },
  {
   "cell_type": "code",
   "execution_count": null,
   "id": "7637c36e",
   "metadata": {},
   "outputs": [],
   "source": []
  },
  {
   "cell_type": "markdown",
   "id": "42391d1e",
   "metadata": {
    "id": "38FnXHXlIgZc"
   },
   "source": [
    "### Loss Function"
   ]
  },
  {
   "cell_type": "code",
   "execution_count": null,
   "id": "f79df95a",
   "metadata": {},
   "outputs": [],
   "source": [
    "# 학습률(Learning Rate) 설정\n",
    "# 손실 함수(Loss Function) 정의\n",
    "# 옵티마이저(Optimizer) 설정\n",
    "# - momentum=0.9: 관성을 부여하여 최적화 속도를 높이는 모멘텀 설정\n",
    "# - weight_decay=1e-4: 가중치 감소(Weight Decay)로 L2 정규화 적용 (과적합 방지) -> λ"
   ]
  },
  {
   "cell_type": "code",
   "execution_count": null,
   "id": "2aeb80ab",
   "metadata": {},
   "outputs": [],
   "source": [
    "    # 평균 손실 및 정확도 계산\n",
    "    # 에폭별 훈련 및 검증 결과 출력"
   ]
  },
  {
   "cell_type": "code",
   "execution_count": null,
   "id": "731353f1",
   "metadata": {},
   "outputs": [],
   "source": [
    "# 1행 2열(subplot 2개)짜리 그래프 생성, 전체 크기는 (12, 4)\n",
    "# (왼쪽 그래프) 학습 손실(train loss)과 검증 손실(validation loss) 그래프\n",
    "# (오른쪽 그래프) 학습 정확도(train accuracy)와 검증 정확도(validation accuracy) 그래프"
   ]
  },
  {
   "cell_type": "markdown",
   "id": "7e6092b9",
   "metadata": {
    "id": "131T7vCmIgZe"
   },
   "source": [
    "### Model 평가"
   ]
  },
  {
   "cell_type": "markdown",
   "id": "dfc7e67e",
   "metadata": {
    "id": "ZKdyh4-6hoy3"
   },
   "source": [
    "### model 이 어떤 image 들을 잘 맞추고 혹은 틀렸는지 시각화"
   ]
  },
  {
   "cell_type": "code",
   "execution_count": null,
   "id": "edbe3256",
   "metadata": {},
   "outputs": [],
   "source": [
    "    # 테스트 데이터셋을 배치 단위로 순회\n",
    "# 예측값과 실제 레이블이 일치하는 경우의 인덱스를 찾음\n",
    "# 예측값과 실제 레이블이 불일치하는 경우의 인덱스를 찾음\n",
    "# 정확도 계산: 정확한 예측의 수를 전체 예측의 수로 나눈 후 100을 곱하여 백분율로 변환"
   ]
  },
  {
   "cell_type": "code",
   "execution_count": null,
   "id": "721afc62",
   "metadata": {},
   "outputs": [],
   "source": [
    "# 혼동 행렬(Confusion Matrix) 계산\n",
    "# 혼동 행렬 시각화 (히트맵 형태)\n",
    "# 축(label) 설정\n",
    "# x축 틱 레이블을 45도 회전하여 가독성 향상"
   ]
  },
  {
   "cell_type": "code",
   "execution_count": null,
   "id": "3c3f8b88",
   "metadata": {},
   "outputs": [],
   "source": [
    "# 정확한 예측의 인덱스에서 처음 9개를 순회합니다.\n",
    " # 잘못된 예측의 인덱스에서 처음 9개를 순회합니다."
   ]
  },
  {
   "cell_type": "markdown",
   "id": "90428d85",
   "metadata": {
    "id": "-nJ765fqh-tC"
   },
   "source": [
    "## 모델 저장 및 불러오기  \n",
    "\n",
    "### `state_dict` 를 사용하여 모델 저장 및 불러오기  "
   ]
  },
  {
   "cell_type": "code",
   "execution_count": null,
   "id": "73edd069",
   "metadata": {},
   "outputs": [],
   "source": [
    "# 학습이 끝난 후 모델 가중치 저장"
   ]
  },
  {
   "cell_type": "code",
   "execution_count": null,
   "id": "37d6bafc",
   "metadata": {},
   "outputs": [],
   "source": [
    "# 같은 모델 구조를 가진 새로운 모델 생성\n",
    "# 저장된 가중치 로드"
   ]
  },
  {
   "cell_type": "code",
   "execution_count": null,
   "id": "7da4b643",
   "metadata": {},
   "outputs": [],
   "source": [
    "# 로드한 모델의 성능 테스트\n",
    "# 정확도 계산"
   ]
  },
  {
   "cell_type": "code",
   "execution_count": null,
   "id": "a132522a",
   "metadata": {},
   "outputs": [],
   "source": []
  }
 ],
 "metadata": {
  "accelerator": "GPU",
  "colab": {
   "gpuType": "T4",
   "provenance": []
  },
  "kernelspec": {
   "display_name": "Python 3",
   "name": "python3"
  },
  "language_info": {
   "codemirror_mode": {
    "name": "ipython",
    "version": 3
   },
   "file_extension": ".py",
   "mimetype": "text/x-python",
   "name": "python",
   "nbconvert_exporter": "python",
   "pygments_lexer": "ipython3",
   "version": "3.9.16"
  }
 },
 "nbformat": 4,
 "nbformat_minor": 5
}
