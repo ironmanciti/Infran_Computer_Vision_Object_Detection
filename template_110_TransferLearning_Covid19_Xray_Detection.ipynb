{
 "cells": [
  {
   "cell_type": "markdown",
   "id": "6ecf34de",
   "metadata": {
    "id": "cvl_KzTS5hM-"
   },
   "source": [
    "## 전이 학습(Transfer Learning) : COVID-19를 흉부 X-ray로 탐지하기  \n",
    "- 흉부 X-ray 이미지 분류: 세 가지 클래스 중 하나로 분류 - Normal, Viral Pneumonia, COVID-19 (정상, 바이러스성 폐렴, COVID-19)  \n",
    "\n",
    "- 사전 학습된 ResNet18 모델을 불러와 마지막 Fully Connected (FC) 레이어를 수정하여 출력 클래스 수를 3개로 변경.\n",
    "\n",
    "- 데이터셋: Kaggle의 COVID-19 Radiography Dataset (https://www.kaggle.com/datasets/tawsifurrahman/covid19-radiography-database) 사용\n",
    "\n",
    " --> COVID-19 양성 사례 3616장, 정상 10,192장, 폐 혼탁(비COVID 폐 감염) 6012장, 바이러스성 폐렴 1345장의 이미지와 해당 폐 마스크 포함."
   ]
  },
  {
   "cell_type": "code",
   "execution_count": null,
   "id": "cfe9ec6c",
   "metadata": {},
   "outputs": [],
   "source": []
  },
  {
   "cell_type": "code",
   "execution_count": null,
   "id": "30a02282",
   "metadata": {},
   "outputs": [],
   "source": []
  },
  {
   "cell_type": "code",
   "execution_count": null,
   "id": "815f67e5",
   "metadata": {},
   "outputs": [],
   "source": []
  },
  {
   "cell_type": "code",
   "execution_count": null,
   "id": "215fe9b2",
   "metadata": {},
   "outputs": [],
   "source": []
  },
  {
   "cell_type": "code",
   "execution_count": null,
   "id": "9fd98fe1",
   "metadata": {},
   "outputs": [],
   "source": []
  },
  {
   "cell_type": "code",
   "execution_count": null,
   "id": "ad49edb6",
   "metadata": {},
   "outputs": [],
   "source": [
    "# 학습용 데이터 변환 설정\n",
    "# 테스트용 데이터 변환 설정"
   ]
  },
  {
   "cell_type": "markdown",
   "id": "76f2e7a0",
   "metadata": {
    "id": "mCxd36qPHtZ3"
   },
   "source": [
    "### `datasets.ImageFolder(folder, transform)` data loader 생성"
   ]
  },
  {
   "cell_type": "code",
   "execution_count": null,
   "id": "3f53e029",
   "metadata": {},
   "outputs": [],
   "source": [
    "# datasets.ImageFolder를 사용하여 훈련 데이터셋을 로드\n",
    "# 이 함수는 주어진 디렉토리 경로에서 이미지 파일들을 자동으로 찾아서 레이블을 할당\n",
    "# data_dir은 데이터가 저장된 루트 디렉토리\n",
    "# 'train' 폴더 안에 있는 이미지들은 훈련을 위해 사용"
   ]
  },
  {
   "cell_type": "code",
   "execution_count": null,
   "id": "1de51cd4",
   "metadata": {},
   "outputs": [],
   "source": [
    "# 학습 데이터 로더 생성\n",
    "# 테스트 데이터 로더 생성\n",
    "# 학습 및 테스트 배치 수 출력"
   ]
  },
  {
   "cell_type": "markdown",
   "id": "4a6e169d",
   "metadata": {
    "id": "mn72OpTw9RtB"
   },
   "source": [
    "## 데이터 시각화"
   ]
  },
  {
   "cell_type": "code",
   "execution_count": null,
   "id": "46f77de5",
   "metadata": {},
   "outputs": [],
   "source": [
    "# 클래스 이름 가져오기 (정상, 바이러스성 폐렴, COVID-19)"
   ]
  },
  {
   "cell_type": "code",
   "execution_count": null,
   "id": "d00a60e1",
   "metadata": {},
   "outputs": [],
   "source": [
    "# 이미지를 보여주는 함수 정의\n",
    "def show_images(images, labels, preds):\n",
    "    # 각 이미지를 순회하며 표시\n",
    "        # 정규화 해제를 위한 평균 및 표준편차 설정\n",
    "        # 예측이 틀린 경우 레이블 색상을 빨간색으로 설정\n",
    "        # 실제 클래스 레이블과 예측 클래스 레이블 표시"
   ]
  },
  {
   "cell_type": "code",
   "execution_count": null,
   "id": "15b4a169",
   "metadata": {},
   "outputs": [],
   "source": [
    "# 학습 데이터 로더에서 첫 번째 배치의 이미지와 레이블을 가져옴\n",
    "# 이미지와 실제 레이블을 사용하여 이미지 표시 함수 호출 (예측 값은 실제 레이블로 설정)"
   ]
  },
  {
   "cell_type": "code",
   "execution_count": null,
   "id": "41326525",
   "metadata": {},
   "outputs": [],
   "source": []
  },
  {
   "cell_type": "markdown",
   "id": "73b70c16",
   "metadata": {
    "id": "6OGeMO9q9RtC"
   },
   "source": [
    "## Model 생성"
   ]
  },
  {
   "cell_type": "code",
   "execution_count": null,
   "id": "ee32f780",
   "metadata": {},
   "outputs": [],
   "source": []
  },
  {
   "cell_type": "code",
   "execution_count": null,
   "id": "4ca4bde8",
   "metadata": {},
   "outputs": [],
   "source": [
    "# ResNet18 모델의 최종 완전 연결(FC) 레이어를 수정하여 출력 클래스 수를 3으로 설정 (normal, viral, covid)\n",
    "# 손실 함수로 교차 엔트로피 손실 설정\n",
    "# Adam 옵티마이저 설정, 학습률은 3e-5로 설정"
   ]
  },
  {
   "cell_type": "code",
   "execution_count": null,
   "id": "12b6333a",
   "metadata": {},
   "outputs": [],
   "source": [
    "# 예측 결과를 시각화하는 함수 정의\n",
    "def show_preds():\n",
    "# 예측 결과 시각화 함수 호출"
   ]
  },
  {
   "cell_type": "markdown",
   "id": "6a3a57a0",
   "metadata": {
    "id": "mIM5c_y89RtC"
   },
   "source": [
    "## Model 학습"
   ]
  },
  {
   "cell_type": "code",
   "execution_count": null,
   "id": "c813d1e3",
   "metadata": {},
   "outputs": [],
   "source": [
    "    # 학습 데이터 반복\n",
    "        # 일정 스텝마다 검증 수행\n",
    "            # 조기 종료 조건 확인"
   ]
  },
  {
   "cell_type": "code",
   "execution_count": null,
   "id": "119661bb",
   "metadata": {},
   "outputs": [],
   "source": []
  },
  {
   "cell_type": "code",
   "execution_count": null,
   "id": "3cc385f9",
   "metadata": {},
   "outputs": [],
   "source": []
  }
 ],
 "metadata": {
  "accelerator": "GPU",
  "colab": {
   "gpuType": "T4",
   "provenance": []
  },
  "kernelspec": {
   "display_name": "Python 3 (ipykernel)",
   "language": "python",
   "name": "python3"
  },
  "language_info": {
   "codemirror_mode": {
    "name": "ipython",
    "version": 3
   },
   "file_extension": ".py",
   "mimetype": "text/x-python",
   "name": "python",
   "nbconvert_exporter": "python",
   "pygments_lexer": "ipython3",
   "version": "3.9.16"
  }
 },
 "nbformat": 4,
 "nbformat_minor": 5
}
