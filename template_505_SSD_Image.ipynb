{
 "cells": [
  {
   "cell_type": "markdown",
   "id": "a5b36670-a7ad-4ecd-9cc1-908f360a750c",
   "metadata": {
    "id": "a5b36670-a7ad-4ecd-9cc1-908f360a750c"
   },
   "source": [
    "# SSD\n",
    "\n",
    "- Single Shot MultiBox Detector : 단일 단계(single shot)로 객체의 위치(바운딩 박스)와 클래스(라벨)를 동시에 예측하는 객체 탐지 모델\n",
    "\n",
    "<img src=\"https://cdn-images-1.medium.com/max/1000/1*GmJiirxTSuSVrh-r7gtJdA.png\" />\n",
    "\n",
    "- SSD(Single Shot Multibox Detector) 아키텍처는 다음과 같이 요약할 수 있습니다.\n",
    "\n",
    "1. **입력 이미지 (왼쪽)**:  \n",
    "   이미지는 원본 상태로 네트워크에 입력됩니다. 여기서 시작하는 변환 과정은 점진적으로 특징을 추출하며 진행됩니다.\n",
    "\n",
    "2. **Base Network (기본 특징 추출부)**:  \n",
    "   - `conv1`, `pool1`, `conv2_x`, `conv3_x`, `conv4_x`, `conv5_x`라고 표시된 큰 회색 블록들은 사전에 학습된 분류용 CNN(예: VGG-16)을 기반으로 합니다.\n",
    "   - 이 단계에서 이미지로부터 엣지, 텍스처, 형태와 같은 저/중간 수준 특징들이 추출되며, 점차 하위 레이어로 갈수록 더 추상적이고 고차원적인 특징이 얻어집니다.\n",
    "<br></br>\n",
    "3. **Multi-scale Feature Maps 생성부 (SSD Layers 부분)**:  \n",
    "   - 그림 오른쪽 부분에 작은 파란색 박스로 표현된 층들이 바로 SSD에서 추가되는 \"extra feature layers\"를 의미합니다.\n",
    "   - `conv5_x` 이후에 추가되는 컨볼루션 레이어들이 특징 맵의 공간적 크기를 점진적으로 줄여나가며 다양한 스케일의 특징 맵을 생성합니다.\n",
    "   - 이러한 각각의 특징 맵(파란 박스들)은 서로 다른 크기의 객체를 탐지하기 위해 사용됩니다.\n",
    "<br></br>\n",
    "4. **Default Boxes(Anchor Boxes) & Prediction Layers**:  \n",
    "   - 파란색 박스들로 표현된 추가 컨볼루션 레이어들에서 각 셀 위치마다 여러 비율과 스케일의 기본 박스(default box)가 할당됩니다.\n",
    "   - 이 레이어들 위에서 클래스 점수와 바운딩 박스 좌표(offset)를 예측하는 \"Original Prediction Layer\"(그림 상단의 화살표 끝부분)로 이어집니다.\n",
    "   - 즉, 여러 스케일의 특징 맵에서 나온 정보가 최종적으로 한 번에(싱글 샷으로) 객체의 위치와 클래스 확률을 예측하는 단계로 전달됩니다.\n",
    "\n",
    "정리하자면, **왼쪽에서 오른쪽으로 갈수록**:  \n",
    "입력 이미지 → 사전학습된 기본 CNN을 거치며 특징 추출 → 네트워크 후반부에 SSD 전용 레이어 추가 및 다중 스케일 특징 맵 생성 → 각 스케일별로 기본 박스에 대해 클래스/좌표 예측 → 최종 예측 결과 산출  \n",
    "의 순서로 진행되는 것이 SSD 의 아키텍처 입니다."
   ]
  },
  {
   "cell_type": "code",
   "execution_count": null,
   "id": "9384a210",
   "metadata": {},
   "outputs": [],
   "source": []
  },
  {
   "cell_type": "code",
   "execution_count": null,
   "id": "9fd479d6",
   "metadata": {},
   "outputs": [],
   "source": [
    "# 1. 사전 학습된 SSD 모델 로드 (COCO 데이터셋으로 학습)\n",
    "# COCO 클래스는 1번부터 90번까지 매핑되어 있으며, 0은 background를 의미\n",
    "# 2. 이미지 전처리"
   ]
  },
  {
   "cell_type": "code",
   "execution_count": null,
   "id": "eb5aaaf4",
   "metadata": {},
   "outputs": [],
   "source": [
    "# 3. 모델 추론\n",
    "# 결과 분석"
   ]
  },
  {
   "cell_type": "code",
   "execution_count": null,
   "id": "a6edf63e",
   "metadata": {},
   "outputs": [],
   "source": [
    "# 4. 시각화\n",
    "        # box 좌표를 리스트 형태로 변환\n",
    "        # 박스의 폭과 높이 계산\n",
    "        #해당 좌표와 크기로 사각형을 그림\n",
    "        # 실제 matplotlib 축(ax)에 패치 추가\n",
    "        # 클래스 이름\n",
    "        #점수 표시\n",
    "        # ax.text(x, y, text, ...)를 통해 이미지 위에 텍스트 표시\n",
    "        # bbox 인자를 통해 텍스트 주변에 배경 박스(노란색, 투명도 0.5) 생성"
   ]
  },
  {
   "cell_type": "code",
   "execution_count": null,
   "id": "ccb1a824",
   "metadata": {},
   "outputs": [],
   "source": []
  }
 ],
 "metadata": {
  "colab": {
   "provenance": []
  },
  "kernelspec": {
   "display_name": "Python 3 (ipykernel)",
   "language": "python",
   "name": "python3"
  },
  "language_info": {
   "codemirror_mode": {
    "name": "ipython",
    "version": 3
   },
   "file_extension": ".py",
   "mimetype": "text/x-python",
   "name": "python",
   "nbconvert_exporter": "python",
   "pygments_lexer": "ipython3",
   "version": "3.9.16"
  }
 },
 "nbformat": 4,
 "nbformat_minor": 5
}
